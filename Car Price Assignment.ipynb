{
 "cells": [
  {
   "cell_type": "code",
   "execution_count": 1,
   "id": "6f07560d",
   "metadata": {},
   "outputs": [],
   "source": [
    "import numpy as np\n",
    "import pandas as pd\n",
    "import matplotlib.pyplot as plt\n",
    "import seaborn as sns"
   ]
  },
  {
   "cell_type": "code",
   "execution_count": 2,
   "id": "93371791",
   "metadata": {},
   "outputs": [
    {
     "data": {
      "text/html": [
       "<div>\n",
       "<style scoped>\n",
       "    .dataframe tbody tr th:only-of-type {\n",
       "        vertical-align: middle;\n",
       "    }\n",
       "\n",
       "    .dataframe tbody tr th {\n",
       "        vertical-align: top;\n",
       "    }\n",
       "\n",
       "    .dataframe thead th {\n",
       "        text-align: right;\n",
       "    }\n",
       "</style>\n",
       "<table border=\"1\" class=\"dataframe\">\n",
       "  <thead>\n",
       "    <tr style=\"text-align: right;\">\n",
       "      <th></th>\n",
       "      <th>car_ID</th>\n",
       "      <th>symboling</th>\n",
       "      <th>CarName</th>\n",
       "      <th>fueltype</th>\n",
       "      <th>aspiration</th>\n",
       "      <th>doornumber</th>\n",
       "      <th>carbody</th>\n",
       "      <th>drivewheel</th>\n",
       "      <th>enginelocation</th>\n",
       "      <th>wheelbase</th>\n",
       "      <th>...</th>\n",
       "      <th>enginesize</th>\n",
       "      <th>fuelsystem</th>\n",
       "      <th>boreratio</th>\n",
       "      <th>stroke</th>\n",
       "      <th>compressionratio</th>\n",
       "      <th>horsepower</th>\n",
       "      <th>peakrpm</th>\n",
       "      <th>citympg</th>\n",
       "      <th>highwaympg</th>\n",
       "      <th>price</th>\n",
       "    </tr>\n",
       "  </thead>\n",
       "  <tbody>\n",
       "    <tr>\n",
       "      <th>0</th>\n",
       "      <td>1</td>\n",
       "      <td>3</td>\n",
       "      <td>alfa-romero giulia</td>\n",
       "      <td>gas</td>\n",
       "      <td>std</td>\n",
       "      <td>two</td>\n",
       "      <td>convertible</td>\n",
       "      <td>rwd</td>\n",
       "      <td>front</td>\n",
       "      <td>88.6</td>\n",
       "      <td>...</td>\n",
       "      <td>130</td>\n",
       "      <td>mpfi</td>\n",
       "      <td>3.47</td>\n",
       "      <td>2.68</td>\n",
       "      <td>9.0</td>\n",
       "      <td>111</td>\n",
       "      <td>5000</td>\n",
       "      <td>21</td>\n",
       "      <td>27</td>\n",
       "      <td>13495.0</td>\n",
       "    </tr>\n",
       "    <tr>\n",
       "      <th>1</th>\n",
       "      <td>2</td>\n",
       "      <td>3</td>\n",
       "      <td>alfa-romero stelvio</td>\n",
       "      <td>gas</td>\n",
       "      <td>std</td>\n",
       "      <td>two</td>\n",
       "      <td>convertible</td>\n",
       "      <td>rwd</td>\n",
       "      <td>front</td>\n",
       "      <td>88.6</td>\n",
       "      <td>...</td>\n",
       "      <td>130</td>\n",
       "      <td>mpfi</td>\n",
       "      <td>3.47</td>\n",
       "      <td>2.68</td>\n",
       "      <td>9.0</td>\n",
       "      <td>111</td>\n",
       "      <td>5000</td>\n",
       "      <td>21</td>\n",
       "      <td>27</td>\n",
       "      <td>16500.0</td>\n",
       "    </tr>\n",
       "    <tr>\n",
       "      <th>2</th>\n",
       "      <td>3</td>\n",
       "      <td>1</td>\n",
       "      <td>alfa-romero Quadrifoglio</td>\n",
       "      <td>gas</td>\n",
       "      <td>std</td>\n",
       "      <td>two</td>\n",
       "      <td>hatchback</td>\n",
       "      <td>rwd</td>\n",
       "      <td>front</td>\n",
       "      <td>94.5</td>\n",
       "      <td>...</td>\n",
       "      <td>152</td>\n",
       "      <td>mpfi</td>\n",
       "      <td>2.68</td>\n",
       "      <td>3.47</td>\n",
       "      <td>9.0</td>\n",
       "      <td>154</td>\n",
       "      <td>5000</td>\n",
       "      <td>19</td>\n",
       "      <td>26</td>\n",
       "      <td>16500.0</td>\n",
       "    </tr>\n",
       "    <tr>\n",
       "      <th>3</th>\n",
       "      <td>4</td>\n",
       "      <td>2</td>\n",
       "      <td>audi 100 ls</td>\n",
       "      <td>gas</td>\n",
       "      <td>std</td>\n",
       "      <td>four</td>\n",
       "      <td>sedan</td>\n",
       "      <td>fwd</td>\n",
       "      <td>front</td>\n",
       "      <td>99.8</td>\n",
       "      <td>...</td>\n",
       "      <td>109</td>\n",
       "      <td>mpfi</td>\n",
       "      <td>3.19</td>\n",
       "      <td>3.40</td>\n",
       "      <td>10.0</td>\n",
       "      <td>102</td>\n",
       "      <td>5500</td>\n",
       "      <td>24</td>\n",
       "      <td>30</td>\n",
       "      <td>13950.0</td>\n",
       "    </tr>\n",
       "    <tr>\n",
       "      <th>4</th>\n",
       "      <td>5</td>\n",
       "      <td>2</td>\n",
       "      <td>audi 100ls</td>\n",
       "      <td>gas</td>\n",
       "      <td>std</td>\n",
       "      <td>four</td>\n",
       "      <td>sedan</td>\n",
       "      <td>4wd</td>\n",
       "      <td>front</td>\n",
       "      <td>99.4</td>\n",
       "      <td>...</td>\n",
       "      <td>136</td>\n",
       "      <td>mpfi</td>\n",
       "      <td>3.19</td>\n",
       "      <td>3.40</td>\n",
       "      <td>8.0</td>\n",
       "      <td>115</td>\n",
       "      <td>5500</td>\n",
       "      <td>18</td>\n",
       "      <td>22</td>\n",
       "      <td>17450.0</td>\n",
       "    </tr>\n",
       "    <tr>\n",
       "      <th>...</th>\n",
       "      <td>...</td>\n",
       "      <td>...</td>\n",
       "      <td>...</td>\n",
       "      <td>...</td>\n",
       "      <td>...</td>\n",
       "      <td>...</td>\n",
       "      <td>...</td>\n",
       "      <td>...</td>\n",
       "      <td>...</td>\n",
       "      <td>...</td>\n",
       "      <td>...</td>\n",
       "      <td>...</td>\n",
       "      <td>...</td>\n",
       "      <td>...</td>\n",
       "      <td>...</td>\n",
       "      <td>...</td>\n",
       "      <td>...</td>\n",
       "      <td>...</td>\n",
       "      <td>...</td>\n",
       "      <td>...</td>\n",
       "      <td>...</td>\n",
       "    </tr>\n",
       "    <tr>\n",
       "      <th>200</th>\n",
       "      <td>201</td>\n",
       "      <td>-1</td>\n",
       "      <td>volvo 145e (sw)</td>\n",
       "      <td>gas</td>\n",
       "      <td>std</td>\n",
       "      <td>four</td>\n",
       "      <td>sedan</td>\n",
       "      <td>rwd</td>\n",
       "      <td>front</td>\n",
       "      <td>109.1</td>\n",
       "      <td>...</td>\n",
       "      <td>141</td>\n",
       "      <td>mpfi</td>\n",
       "      <td>3.78</td>\n",
       "      <td>3.15</td>\n",
       "      <td>9.5</td>\n",
       "      <td>114</td>\n",
       "      <td>5400</td>\n",
       "      <td>23</td>\n",
       "      <td>28</td>\n",
       "      <td>16845.0</td>\n",
       "    </tr>\n",
       "    <tr>\n",
       "      <th>201</th>\n",
       "      <td>202</td>\n",
       "      <td>-1</td>\n",
       "      <td>volvo 144ea</td>\n",
       "      <td>gas</td>\n",
       "      <td>turbo</td>\n",
       "      <td>four</td>\n",
       "      <td>sedan</td>\n",
       "      <td>rwd</td>\n",
       "      <td>front</td>\n",
       "      <td>109.1</td>\n",
       "      <td>...</td>\n",
       "      <td>141</td>\n",
       "      <td>mpfi</td>\n",
       "      <td>3.78</td>\n",
       "      <td>3.15</td>\n",
       "      <td>8.7</td>\n",
       "      <td>160</td>\n",
       "      <td>5300</td>\n",
       "      <td>19</td>\n",
       "      <td>25</td>\n",
       "      <td>19045.0</td>\n",
       "    </tr>\n",
       "    <tr>\n",
       "      <th>202</th>\n",
       "      <td>203</td>\n",
       "      <td>-1</td>\n",
       "      <td>volvo 244dl</td>\n",
       "      <td>gas</td>\n",
       "      <td>std</td>\n",
       "      <td>four</td>\n",
       "      <td>sedan</td>\n",
       "      <td>rwd</td>\n",
       "      <td>front</td>\n",
       "      <td>109.1</td>\n",
       "      <td>...</td>\n",
       "      <td>173</td>\n",
       "      <td>mpfi</td>\n",
       "      <td>3.58</td>\n",
       "      <td>2.87</td>\n",
       "      <td>8.8</td>\n",
       "      <td>134</td>\n",
       "      <td>5500</td>\n",
       "      <td>18</td>\n",
       "      <td>23</td>\n",
       "      <td>21485.0</td>\n",
       "    </tr>\n",
       "    <tr>\n",
       "      <th>203</th>\n",
       "      <td>204</td>\n",
       "      <td>-1</td>\n",
       "      <td>volvo 246</td>\n",
       "      <td>diesel</td>\n",
       "      <td>turbo</td>\n",
       "      <td>four</td>\n",
       "      <td>sedan</td>\n",
       "      <td>rwd</td>\n",
       "      <td>front</td>\n",
       "      <td>109.1</td>\n",
       "      <td>...</td>\n",
       "      <td>145</td>\n",
       "      <td>idi</td>\n",
       "      <td>3.01</td>\n",
       "      <td>3.40</td>\n",
       "      <td>23.0</td>\n",
       "      <td>106</td>\n",
       "      <td>4800</td>\n",
       "      <td>26</td>\n",
       "      <td>27</td>\n",
       "      <td>22470.0</td>\n",
       "    </tr>\n",
       "    <tr>\n",
       "      <th>204</th>\n",
       "      <td>205</td>\n",
       "      <td>-1</td>\n",
       "      <td>volvo 264gl</td>\n",
       "      <td>gas</td>\n",
       "      <td>turbo</td>\n",
       "      <td>four</td>\n",
       "      <td>sedan</td>\n",
       "      <td>rwd</td>\n",
       "      <td>front</td>\n",
       "      <td>109.1</td>\n",
       "      <td>...</td>\n",
       "      <td>141</td>\n",
       "      <td>mpfi</td>\n",
       "      <td>3.78</td>\n",
       "      <td>3.15</td>\n",
       "      <td>9.5</td>\n",
       "      <td>114</td>\n",
       "      <td>5400</td>\n",
       "      <td>19</td>\n",
       "      <td>25</td>\n",
       "      <td>22625.0</td>\n",
       "    </tr>\n",
       "  </tbody>\n",
       "</table>\n",
       "<p>205 rows × 26 columns</p>\n",
       "</div>"
      ],
      "text/plain": [
       "     car_ID  symboling                   CarName fueltype aspiration  \\\n",
       "0         1          3        alfa-romero giulia      gas        std   \n",
       "1         2          3       alfa-romero stelvio      gas        std   \n",
       "2         3          1  alfa-romero Quadrifoglio      gas        std   \n",
       "3         4          2               audi 100 ls      gas        std   \n",
       "4         5          2                audi 100ls      gas        std   \n",
       "..      ...        ...                       ...      ...        ...   \n",
       "200     201         -1           volvo 145e (sw)      gas        std   \n",
       "201     202         -1               volvo 144ea      gas      turbo   \n",
       "202     203         -1               volvo 244dl      gas        std   \n",
       "203     204         -1                 volvo 246   diesel      turbo   \n",
       "204     205         -1               volvo 264gl      gas      turbo   \n",
       "\n",
       "    doornumber      carbody drivewheel enginelocation  wheelbase  ...  \\\n",
       "0          two  convertible        rwd          front       88.6  ...   \n",
       "1          two  convertible        rwd          front       88.6  ...   \n",
       "2          two    hatchback        rwd          front       94.5  ...   \n",
       "3         four        sedan        fwd          front       99.8  ...   \n",
       "4         four        sedan        4wd          front       99.4  ...   \n",
       "..         ...          ...        ...            ...        ...  ...   \n",
       "200       four        sedan        rwd          front      109.1  ...   \n",
       "201       four        sedan        rwd          front      109.1  ...   \n",
       "202       four        sedan        rwd          front      109.1  ...   \n",
       "203       four        sedan        rwd          front      109.1  ...   \n",
       "204       four        sedan        rwd          front      109.1  ...   \n",
       "\n",
       "     enginesize  fuelsystem  boreratio  stroke compressionratio horsepower  \\\n",
       "0           130        mpfi       3.47    2.68              9.0        111   \n",
       "1           130        mpfi       3.47    2.68              9.0        111   \n",
       "2           152        mpfi       2.68    3.47              9.0        154   \n",
       "3           109        mpfi       3.19    3.40             10.0        102   \n",
       "4           136        mpfi       3.19    3.40              8.0        115   \n",
       "..          ...         ...        ...     ...              ...        ...   \n",
       "200         141        mpfi       3.78    3.15              9.5        114   \n",
       "201         141        mpfi       3.78    3.15              8.7        160   \n",
       "202         173        mpfi       3.58    2.87              8.8        134   \n",
       "203         145         idi       3.01    3.40             23.0        106   \n",
       "204         141        mpfi       3.78    3.15              9.5        114   \n",
       "\n",
       "     peakrpm citympg  highwaympg    price  \n",
       "0       5000      21          27  13495.0  \n",
       "1       5000      21          27  16500.0  \n",
       "2       5000      19          26  16500.0  \n",
       "3       5500      24          30  13950.0  \n",
       "4       5500      18          22  17450.0  \n",
       "..       ...     ...         ...      ...  \n",
       "200     5400      23          28  16845.0  \n",
       "201     5300      19          25  19045.0  \n",
       "202     5500      18          23  21485.0  \n",
       "203     4800      26          27  22470.0  \n",
       "204     5400      19          25  22625.0  \n",
       "\n",
       "[205 rows x 26 columns]"
      ]
     },
     "execution_count": 2,
     "metadata": {},
     "output_type": "execute_result"
    }
   ],
   "source": [
    "df = pd.read_csv(\"CarPrice.csv\")\n",
    "df"
   ]
  },
  {
   "cell_type": "code",
   "execution_count": 3,
   "id": "41d02559",
   "metadata": {
    "collapsed": true
   },
   "outputs": [
    {
     "name": "stdout",
     "output_type": "stream",
     "text": [
      "<class 'pandas.core.frame.DataFrame'>\n",
      "RangeIndex: 205 entries, 0 to 204\n",
      "Data columns (total 26 columns):\n",
      " #   Column            Non-Null Count  Dtype  \n",
      "---  ------            --------------  -----  \n",
      " 0   car_ID            205 non-null    int64  \n",
      " 1   symboling         205 non-null    int64  \n",
      " 2   CarName           205 non-null    object \n",
      " 3   fueltype          205 non-null    object \n",
      " 4   aspiration        205 non-null    object \n",
      " 5   doornumber        205 non-null    object \n",
      " 6   carbody           205 non-null    object \n",
      " 7   drivewheel        205 non-null    object \n",
      " 8   enginelocation    205 non-null    object \n",
      " 9   wheelbase         205 non-null    float64\n",
      " 10  carlength         205 non-null    float64\n",
      " 11  carwidth          205 non-null    float64\n",
      " 12  carheight         205 non-null    float64\n",
      " 13  curbweight        205 non-null    int64  \n",
      " 14  enginetype        205 non-null    object \n",
      " 15  cylindernumber    205 non-null    object \n",
      " 16  enginesize        205 non-null    int64  \n",
      " 17  fuelsystem        205 non-null    object \n",
      " 18  boreratio         205 non-null    float64\n",
      " 19  stroke            205 non-null    float64\n",
      " 20  compressionratio  205 non-null    float64\n",
      " 21  horsepower        205 non-null    int64  \n",
      " 22  peakrpm           205 non-null    int64  \n",
      " 23  citympg           205 non-null    int64  \n",
      " 24  highwaympg        205 non-null    int64  \n",
      " 25  price             205 non-null    float64\n",
      "dtypes: float64(8), int64(8), object(10)\n",
      "memory usage: 41.8+ KB\n"
     ]
    }
   ],
   "source": [
    "df.info()"
   ]
  },
  {
   "cell_type": "code",
   "execution_count": 4,
   "id": "9f8cbffa",
   "metadata": {
    "collapsed": true
   },
   "outputs": [
    {
     "data": {
      "text/html": [
       "<div>\n",
       "<style scoped>\n",
       "    .dataframe tbody tr th:only-of-type {\n",
       "        vertical-align: middle;\n",
       "    }\n",
       "\n",
       "    .dataframe tbody tr th {\n",
       "        vertical-align: top;\n",
       "    }\n",
       "\n",
       "    .dataframe thead th {\n",
       "        text-align: right;\n",
       "    }\n",
       "</style>\n",
       "<table border=\"1\" class=\"dataframe\">\n",
       "  <thead>\n",
       "    <tr style=\"text-align: right;\">\n",
       "      <th></th>\n",
       "      <th>car_ID</th>\n",
       "      <th>symboling</th>\n",
       "      <th>wheelbase</th>\n",
       "      <th>carlength</th>\n",
       "      <th>carwidth</th>\n",
       "      <th>carheight</th>\n",
       "      <th>curbweight</th>\n",
       "      <th>enginesize</th>\n",
       "      <th>boreratio</th>\n",
       "      <th>stroke</th>\n",
       "      <th>compressionratio</th>\n",
       "      <th>horsepower</th>\n",
       "      <th>peakrpm</th>\n",
       "      <th>citympg</th>\n",
       "      <th>highwaympg</th>\n",
       "      <th>price</th>\n",
       "    </tr>\n",
       "  </thead>\n",
       "  <tbody>\n",
       "    <tr>\n",
       "      <th>count</th>\n",
       "      <td>205.000000</td>\n",
       "      <td>205.000000</td>\n",
       "      <td>205.000000</td>\n",
       "      <td>205.000000</td>\n",
       "      <td>205.000000</td>\n",
       "      <td>205.000000</td>\n",
       "      <td>205.000000</td>\n",
       "      <td>205.000000</td>\n",
       "      <td>205.000000</td>\n",
       "      <td>205.000000</td>\n",
       "      <td>205.000000</td>\n",
       "      <td>205.000000</td>\n",
       "      <td>205.000000</td>\n",
       "      <td>205.000000</td>\n",
       "      <td>205.000000</td>\n",
       "      <td>205.000000</td>\n",
       "    </tr>\n",
       "    <tr>\n",
       "      <th>mean</th>\n",
       "      <td>103.000000</td>\n",
       "      <td>0.834146</td>\n",
       "      <td>98.756585</td>\n",
       "      <td>174.049268</td>\n",
       "      <td>65.907805</td>\n",
       "      <td>53.724878</td>\n",
       "      <td>2555.565854</td>\n",
       "      <td>126.907317</td>\n",
       "      <td>3.329756</td>\n",
       "      <td>3.255415</td>\n",
       "      <td>10.142537</td>\n",
       "      <td>104.117073</td>\n",
       "      <td>5125.121951</td>\n",
       "      <td>25.219512</td>\n",
       "      <td>30.751220</td>\n",
       "      <td>13276.710571</td>\n",
       "    </tr>\n",
       "    <tr>\n",
       "      <th>std</th>\n",
       "      <td>59.322565</td>\n",
       "      <td>1.245307</td>\n",
       "      <td>6.021776</td>\n",
       "      <td>12.337289</td>\n",
       "      <td>2.145204</td>\n",
       "      <td>2.443522</td>\n",
       "      <td>520.680204</td>\n",
       "      <td>41.642693</td>\n",
       "      <td>0.270844</td>\n",
       "      <td>0.313597</td>\n",
       "      <td>3.972040</td>\n",
       "      <td>39.544167</td>\n",
       "      <td>476.985643</td>\n",
       "      <td>6.542142</td>\n",
       "      <td>6.886443</td>\n",
       "      <td>7988.852332</td>\n",
       "    </tr>\n",
       "    <tr>\n",
       "      <th>min</th>\n",
       "      <td>1.000000</td>\n",
       "      <td>-2.000000</td>\n",
       "      <td>86.600000</td>\n",
       "      <td>141.100000</td>\n",
       "      <td>60.300000</td>\n",
       "      <td>47.800000</td>\n",
       "      <td>1488.000000</td>\n",
       "      <td>61.000000</td>\n",
       "      <td>2.540000</td>\n",
       "      <td>2.070000</td>\n",
       "      <td>7.000000</td>\n",
       "      <td>48.000000</td>\n",
       "      <td>4150.000000</td>\n",
       "      <td>13.000000</td>\n",
       "      <td>16.000000</td>\n",
       "      <td>5118.000000</td>\n",
       "    </tr>\n",
       "    <tr>\n",
       "      <th>25%</th>\n",
       "      <td>52.000000</td>\n",
       "      <td>0.000000</td>\n",
       "      <td>94.500000</td>\n",
       "      <td>166.300000</td>\n",
       "      <td>64.100000</td>\n",
       "      <td>52.000000</td>\n",
       "      <td>2145.000000</td>\n",
       "      <td>97.000000</td>\n",
       "      <td>3.150000</td>\n",
       "      <td>3.110000</td>\n",
       "      <td>8.600000</td>\n",
       "      <td>70.000000</td>\n",
       "      <td>4800.000000</td>\n",
       "      <td>19.000000</td>\n",
       "      <td>25.000000</td>\n",
       "      <td>7788.000000</td>\n",
       "    </tr>\n",
       "    <tr>\n",
       "      <th>50%</th>\n",
       "      <td>103.000000</td>\n",
       "      <td>1.000000</td>\n",
       "      <td>97.000000</td>\n",
       "      <td>173.200000</td>\n",
       "      <td>65.500000</td>\n",
       "      <td>54.100000</td>\n",
       "      <td>2414.000000</td>\n",
       "      <td>120.000000</td>\n",
       "      <td>3.310000</td>\n",
       "      <td>3.290000</td>\n",
       "      <td>9.000000</td>\n",
       "      <td>95.000000</td>\n",
       "      <td>5200.000000</td>\n",
       "      <td>24.000000</td>\n",
       "      <td>30.000000</td>\n",
       "      <td>10295.000000</td>\n",
       "    </tr>\n",
       "    <tr>\n",
       "      <th>75%</th>\n",
       "      <td>154.000000</td>\n",
       "      <td>2.000000</td>\n",
       "      <td>102.400000</td>\n",
       "      <td>183.100000</td>\n",
       "      <td>66.900000</td>\n",
       "      <td>55.500000</td>\n",
       "      <td>2935.000000</td>\n",
       "      <td>141.000000</td>\n",
       "      <td>3.580000</td>\n",
       "      <td>3.410000</td>\n",
       "      <td>9.400000</td>\n",
       "      <td>116.000000</td>\n",
       "      <td>5500.000000</td>\n",
       "      <td>30.000000</td>\n",
       "      <td>34.000000</td>\n",
       "      <td>16503.000000</td>\n",
       "    </tr>\n",
       "    <tr>\n",
       "      <th>max</th>\n",
       "      <td>205.000000</td>\n",
       "      <td>3.000000</td>\n",
       "      <td>120.900000</td>\n",
       "      <td>208.100000</td>\n",
       "      <td>72.300000</td>\n",
       "      <td>59.800000</td>\n",
       "      <td>4066.000000</td>\n",
       "      <td>326.000000</td>\n",
       "      <td>3.940000</td>\n",
       "      <td>4.170000</td>\n",
       "      <td>23.000000</td>\n",
       "      <td>288.000000</td>\n",
       "      <td>6600.000000</td>\n",
       "      <td>49.000000</td>\n",
       "      <td>54.000000</td>\n",
       "      <td>45400.000000</td>\n",
       "    </tr>\n",
       "  </tbody>\n",
       "</table>\n",
       "</div>"
      ],
      "text/plain": [
       "           car_ID   symboling   wheelbase   carlength    carwidth   carheight  \\\n",
       "count  205.000000  205.000000  205.000000  205.000000  205.000000  205.000000   \n",
       "mean   103.000000    0.834146   98.756585  174.049268   65.907805   53.724878   \n",
       "std     59.322565    1.245307    6.021776   12.337289    2.145204    2.443522   \n",
       "min      1.000000   -2.000000   86.600000  141.100000   60.300000   47.800000   \n",
       "25%     52.000000    0.000000   94.500000  166.300000   64.100000   52.000000   \n",
       "50%    103.000000    1.000000   97.000000  173.200000   65.500000   54.100000   \n",
       "75%    154.000000    2.000000  102.400000  183.100000   66.900000   55.500000   \n",
       "max    205.000000    3.000000  120.900000  208.100000   72.300000   59.800000   \n",
       "\n",
       "        curbweight  enginesize   boreratio      stroke  compressionratio  \\\n",
       "count   205.000000  205.000000  205.000000  205.000000        205.000000   \n",
       "mean   2555.565854  126.907317    3.329756    3.255415         10.142537   \n",
       "std     520.680204   41.642693    0.270844    0.313597          3.972040   \n",
       "min    1488.000000   61.000000    2.540000    2.070000          7.000000   \n",
       "25%    2145.000000   97.000000    3.150000    3.110000          8.600000   \n",
       "50%    2414.000000  120.000000    3.310000    3.290000          9.000000   \n",
       "75%    2935.000000  141.000000    3.580000    3.410000          9.400000   \n",
       "max    4066.000000  326.000000    3.940000    4.170000         23.000000   \n",
       "\n",
       "       horsepower      peakrpm     citympg  highwaympg         price  \n",
       "count  205.000000   205.000000  205.000000  205.000000    205.000000  \n",
       "mean   104.117073  5125.121951   25.219512   30.751220  13276.710571  \n",
       "std     39.544167   476.985643    6.542142    6.886443   7988.852332  \n",
       "min     48.000000  4150.000000   13.000000   16.000000   5118.000000  \n",
       "25%     70.000000  4800.000000   19.000000   25.000000   7788.000000  \n",
       "50%     95.000000  5200.000000   24.000000   30.000000  10295.000000  \n",
       "75%    116.000000  5500.000000   30.000000   34.000000  16503.000000  \n",
       "max    288.000000  6600.000000   49.000000   54.000000  45400.000000  "
      ]
     },
     "execution_count": 4,
     "metadata": {},
     "output_type": "execute_result"
    }
   ],
   "source": [
    "df.describe()"
   ]
  },
  {
   "cell_type": "markdown",
   "id": "c7b8f28b",
   "metadata": {},
   "source": [
    "## Exploratary Data Analysis"
   ]
  },
  {
   "cell_type": "code",
   "execution_count": 8,
   "id": "495967ea",
   "metadata": {},
   "outputs": [
    {
     "data": {
      "text/plain": [
       "(array([0, 1, 2]), [Text(0, 0, 'rwd'), Text(1, 0, 'fwd'), Text(2, 0, '4wd')])"
      ]
     },
     "execution_count": 8,
     "metadata": {},
     "output_type": "execute_result"
    },
    {
     "data": {
      "image/png": "[encoded data removed]",
      "text/plain": [
       "<Figure size 1440x1800 with 6 Axes>"
      ]
     },
     "metadata": {
      "needs_background": "light"
     },
     "output_type": "display_data"
    }
   ],
   "source": [
    "#plotting all categorical variable and showing the relation with price\n",
    "figure = plt.figure(figsize=(20,25))\n",
    "plt.subplot2grid((4,2),(0,0))\n",
    "sns.countplot(x='enginetype',data =df)\n",
    "plt.xticks(rotation=90)\n",
    "plt.subplot2grid((4,2),(0,1))\n",
    "sns.boxplot(x='enginetype',y='price',data =df)\n",
    "plt.xticks(rotation=90)\n",
    "\n",
    "plt.subplot2grid((4,2),(1,0))\n",
    "sns.countplot(x='fuelsystem',data =df)\n",
    "plt.xticks(rotation=90)\n",
    "plt.subplot2grid((4,2),(1,1))\n",
    "sns.boxplot(x='fuelsystem',y='price',data =df)\n",
    "plt.xticks(rotation=90)\n",
    "\n",
    "plt.subplot2grid((4,2),(2,0))\n",
    "sns.countplot(x='drivewheel',data =df)\n",
    "plt.xticks(rotation=90)\n",
    "plt.subplot2grid((4,2),(2,1))\n",
    "sns.boxplot(x='drivewheel',y='price',data =df)\n",
    "plt.xticks(rotation=90)\n"
   ]
  },
  {
   "cell_type": "code",
   "execution_count": 7,
   "id": "dd6ace18",
   "metadata": {
    "scrolled": false
   },
   "outputs": [
    {
     "data": {
      "text/plain": [
       "(array([0, 1, 2, 3, 4, 5, 6]),\n",
       " [Text(0, 0, 'four'),\n",
       "  Text(1, 0, 'six'),\n",
       "  Text(2, 0, 'five'),\n",
       "  Text(3, 0, 'three'),\n",
       "  Text(4, 0, 'twelve'),\n",
       "  Text(5, 0, 'two'),\n",
       "  Text(6, 0, 'eight')])"
      ]
     },
     "execution_count": 7,
     "metadata": {},
     "output_type": "execute_result"
    },
    {
     "data": {
      "image/png": "[encoded data removed]",
      "text/plain": [
       "<Figure size 1440x1800 with 4 Axes>"
      ]
     },
     "metadata": {
      "needs_background": "light"
     },
     "output_type": "display_data"
    }
   ],
   "source": [
    "#plotting all categorical variable and showing the relation with price\n",
    "figure = plt.figure(figsize=(20,25))\n",
    "plt.subplot2grid((4,2),(0,0))\n",
    "sns.countplot(x='doornumber',data =df)\n",
    "plt.xticks(rotation=90)\n",
    "plt.subplot2grid((4,2),(0,1))\n",
    "sns.boxplot(x='doornumber',y='price',data =df)\n",
    "plt.xticks(rotation=90)\n",
    "\n",
    "plt.subplot2grid((4,2),(1,0))\n",
    "sns.countplot(x='cylindernumber',data =df)\n",
    "plt.xticks(rotation=90)\n",
    "plt.subplot2grid((4,2),(1,1))\n",
    "sns.boxplot(x='cylindernumber',y='price',data =df)\n",
    "plt.xticks(rotation=90)"
   ]
  },
  {
   "cell_type": "markdown",
   "id": "2b0aec70",
   "metadata": {},
   "source": [
    "## Data Cleaning/ Pre-Processing"
   ]
  },
  {
   "cell_type": "code",
   "execution_count": 9,
   "id": "81c3e1d7",
   "metadata": {},
   "outputs": [],
   "source": [
    "df.rename({'curbweight':'carweight'},inplace = True,axis =1)"
   ]
  },
  {
   "cell_type": "code",
   "execution_count": 10,
   "id": "96e08ea1",
   "metadata": {},
   "outputs": [],
   "source": [
    "df.CarName =df.CarName.apply(lambda x:x.replace('-',' '))\n",
    "df['CarCompanyName'] =df.CarName.apply(lambda x: x.split(' ')).str[0]"
   ]
  },
  {
   "cell_type": "code",
   "execution_count": 11,
   "id": "d220e568",
   "metadata": {},
   "outputs": [],
   "source": [
    "df['CarCompanyName']=df['CarCompanyName'].apply(lambda x: x.lower())\n",
    "df.CarCompanyName =df.CarCompanyName.apply(lambda x:x.lower().replace('vw','volkswagen'))\n",
    "df.CarCompanyName =df.CarCompanyName.apply(lambda x:x.replace('vokswagen','volkswagen'))\n",
    "df.CarCompanyName =df.CarCompanyName.apply(lambda x:x.lower().replace('toyouta','toyota'))\n",
    "df.CarCompanyName =df.CarCompanyName.apply(lambda x:x.lower().replace('porsche','porcshce'))\n",
    "df.CarCompanyName =df.CarCompanyName.apply(lambda x:x.lower().replace('Nissan','nissan'))\n",
    "df.CarCompanyName =df.CarCompanyName.apply(lambda x:x.lower().replace('maxda','mazda'))"
   ]
  },
  {
   "cell_type": "code",
   "execution_count": 12,
   "id": "d81b06be",
   "metadata": {},
   "outputs": [
    {
     "name": "stdout",
     "output_type": "stream",
     "text": [
      "22\n"
     ]
    }
   ],
   "source": [
    "print(df['CarCompanyName'].nunique())"
   ]
  },
  {
   "cell_type": "code",
   "execution_count": 13,
   "id": "f4494194",
   "metadata": {},
   "outputs": [
    {
     "name": "stdout",
     "output_type": "stream",
     "text": [
      "lower bound: -5284.5\n",
      "upper bound: 29575.5\n",
      "outliers:  7.317073170731707\n",
      "no. of records having outliers: 15\n"
     ]
    }
   ],
   "source": [
    "q1,q3 = np.percentile(df.price,[25,75])\n",
    "IQR = q3-q1\n",
    "lowerbound = q1 - 1.5 * IQR\n",
    "upperbound = q3 + 1.5 * IQR\n",
    "print(\"lower bound:\",lowerbound)\n",
    "print(\"upper bound:\",upperbound)\n",
    "print(\"outliers: \",(df.loc[df.price<lowerbound].shape[0]+df.loc[df.price>upperbound].shape[0])/df.shape[0]*100)\n",
    "print(\"no. of records having outliers:\",df.loc[df.price>upperbound].shape[0])"
   ]
  },
  {
   "cell_type": "code",
   "execution_count": 14,
   "id": "b9689a39",
   "metadata": {},
   "outputs": [
    {
     "data": {
      "text/plain": [
       "0"
      ]
     },
     "execution_count": 14,
     "metadata": {},
     "output_type": "execute_result"
    }
   ],
   "source": [
    "df.loc[:,df.apply(pd.Series.nunique) == 1].shape[1]"
   ]
  },
  {
   "cell_type": "code",
   "execution_count": 15,
   "id": "07f98e37",
   "metadata": {
    "scrolled": false
   },
   "outputs": [
    {
     "data": {
      "text/plain": [
       "(array([ 0,  1,  2,  3,  4,  5,  6,  7,  8,  9, 10, 11, 12, 13, 14, 15, 16,\n",
       "        17, 18, 19, 20, 21]),\n",
       " [Text(0, 0, 'alfa'),\n",
       "  Text(1, 0, 'audi'),\n",
       "  Text(2, 0, 'bmw'),\n",
       "  Text(3, 0, 'chevrolet'),\n",
       "  Text(4, 0, 'dodge'),\n",
       "  Text(5, 0, 'honda'),\n",
       "  Text(6, 0, 'isuzu'),\n",
       "  Text(7, 0, 'jaguar'),\n",
       "  Text(8, 0, 'mazda'),\n",
       "  Text(9, 0, 'buick'),\n",
       "  Text(10, 0, 'mercury'),\n",
       "  Text(11, 0, 'mitsubishi'),\n",
       "  Text(12, 0, 'nissan'),\n",
       "  Text(13, 0, 'peugeot'),\n",
       "  Text(14, 0, 'plymouth'),\n",
       "  Text(15, 0, 'porcshce'),\n",
       "  Text(16, 0, 'renault'),\n",
       "  Text(17, 0, 'saab'),\n",
       "  Text(18, 0, 'subaru'),\n",
       "  Text(19, 0, 'toyota'),\n",
       "  Text(20, 0, 'volkswagen'),\n",
       "  Text(21, 0, 'volvo')])"
      ]
     },
     "execution_count": 15,
     "metadata": {},
     "output_type": "execute_result"
    },
    {
     "data": {
      "image/png": "[encoded data removed]",
      "text/plain": [
       "<Figure size 1440x1440 with 2 Axes>"
      ]
     },
     "metadata": {
      "needs_background": "light"
     },
     "output_type": "display_data"
    }
   ],
   "source": [
    "#plotting carcompanyname for each category and showing the realtion with price\n",
    "figure = plt.figure(figsize=(20,20))\n",
    "plt.subplot2grid((2,1),(0,0))\n",
    "sns.countplot(x='CarCompanyName',data =df)\n",
    "plt.xticks(rotation=90)\n",
    "plt.subplot2grid((2,1),(1,0))\n",
    "sns.boxplot(x='CarCompanyName',y='price',data =df)\n",
    "plt.xticks(rotation=90)"
   ]
  },
  {
   "cell_type": "code",
   "execution_count": 16,
   "id": "707003e4",
   "metadata": {},
   "outputs": [],
   "source": [
    "categoricallist =['symboling','fueltype','aspiration','doornumber',\n",
    "                  'carbody', 'drivewheel', 'enginelocation','enginetype',\n",
    "                  'cylindernumber','fuelsystem','CarCompanyName']\n",
    "\n",
    "numericallist =['wheelbase','carlength','carwidth','carheight','carweight',\n",
    "                'enginesize','boreratio','stroke','compressionratio',\n",
    "                'horsepower','peakrpm','citympg', 'highwaympg','price']\n",
    "\n",
    "df[categoricallist]=df[categoricallist].apply(pd.Categorical)\n",
    "df[numericallist]=df[numericallist].apply(pd.to_numeric)"
   ]
  },
  {
   "cell_type": "code",
   "execution_count": 17,
   "id": "987cc259",
   "metadata": {},
   "outputs": [],
   "source": [
    "fueltype = pd.get_dummies(df['fueltype'], drop_first = True).rename(columns=lambda x: 'fueltype_' + str(x))\n",
    "df = pd.concat([df, fueltype], axis=1)\n",
    "df.drop(['fueltype'], inplace=True, axis=1)\n",
    "\n",
    "aspiration = pd.get_dummies(df['aspiration'], drop_first = True).rename(columns=lambda x: 'aspiration_' + str(x))\n",
    "df = pd.concat([df, aspiration], axis=1)\n",
    "df.drop(['aspiration'], inplace=True, axis=1)\n",
    "\n",
    "carbody = pd.get_dummies(df['carbody'], drop_first = True).rename(columns=lambda x: 'carbody_' + str(x))\n",
    "df = pd.concat([df, carbody], axis=1)\n",
    "df.drop(['carbody'], inplace=True, axis=1)\n",
    "\n",
    "drivewheel = pd.get_dummies(df['drivewheel'], drop_first = True).rename(columns=lambda x: 'drivewheel_' + str(x))\n",
    "df = pd.concat([df, drivewheel], axis=1)\n",
    "df.drop(['drivewheel'], inplace=True, axis=1)\n",
    "\n",
    "enginetype = pd.get_dummies(df['enginetype'], drop_first = True).rename(columns=lambda x: 'enginetype_' + str(x))\n",
    "df = pd.concat([df, enginetype], axis=1)\n",
    "df.drop(['enginetype'], inplace=True, axis=1)\n",
    "\n",
    "df['cylindernumber']= df['cylindernumber'].replace({'two':2,'three':3,'four':4,'five':5,'six':6,'eight':8,'twelve':12})\n",
    "df['doornumber']= df['doornumber'].replace({'two':2,'four':4})"
   ]
  },
  {
   "cell_type": "code",
   "execution_count": 18,
   "id": "8f25c726",
   "metadata": {},
   "outputs": [],
   "source": [
    "fuelsystem = pd.get_dummies(df['fuelsystem'], drop_first = True).rename(columns=lambda x: 'fuelsystem_' + str(x))\n",
    "df = pd.concat([df, fuelsystem], axis=1)\n",
    "df.drop(['fuelsystem'], inplace=True, axis=1)\n",
    "\n",
    "CarCompanyName = pd.get_dummies(df['CarCompanyName'], drop_first = True).rename(columns=lambda x: 'CarCompany_' + str(x))\n",
    "df = pd.concat([df, CarCompanyName], axis=1)\n",
    "df.drop(['CarCompanyName'], inplace=True, axis=1)"
   ]
  },
  {
   "cell_type": "code",
   "execution_count": 19,
   "id": "38115a7f",
   "metadata": {},
   "outputs": [],
   "source": [
    "df1 = df.copy()"
   ]
  },
  {
   "cell_type": "code",
   "execution_count": 20,
   "id": "543188fe",
   "metadata": {},
   "outputs": [],
   "source": [
    "df1.drop(labels = ['car_ID','symboling','CarName','doornumber','enginelocation',\n",
    "                   'carheight','stroke','compressionratio','peakrpm','citympg', \n",
    "                   'highwaympg'],axis =1,inplace=True)"
   ]
  },
  {
   "cell_type": "code",
   "execution_count": 21,
   "id": "374da25a",
   "metadata": {},
   "outputs": [
    {
     "data": {
      "text/plain": [
       "(205, 51)"
      ]
     },
     "execution_count": 21,
     "metadata": {},
     "output_type": "execute_result"
    }
   ],
   "source": [
    "df1.shape"
   ]
  },
  {
   "cell_type": "code",
   "execution_count": 22,
   "id": "d4fbe1fe",
   "metadata": {
    "scrolled": true
   },
   "outputs": [
    {
     "data": {
      "text/plain": [
       "Index(['wheelbase', 'carlength', 'carwidth', 'carweight', 'cylindernumber',\n",
       "       'enginesize', 'boreratio', 'horsepower', 'price', 'fueltype_gas',\n",
       "       'aspiration_turbo', 'carbody_hardtop', 'carbody_hatchback',\n",
       "       'carbody_sedan', 'carbody_wagon', 'drivewheel_fwd', 'drivewheel_rwd',\n",
       "       'enginetype_dohcv', 'enginetype_l', 'enginetype_ohc', 'enginetype_ohcf',\n",
       "       'enginetype_ohcv', 'enginetype_rotor', 'fuelsystem_2bbl',\n",
       "       'fuelsystem_4bbl', 'fuelsystem_idi', 'fuelsystem_mfi',\n",
       "       'fuelsystem_mpfi', 'fuelsystem_spdi', 'fuelsystem_spfi',\n",
       "       'CarCompany_audi', 'CarCompany_bmw', 'CarCompany_buick',\n",
       "       'CarCompany_chevrolet', 'CarCompany_dodge', 'CarCompany_honda',\n",
       "       'CarCompany_isuzu', 'CarCompany_jaguar', 'CarCompany_mazda',\n",
       "       'CarCompany_mercury', 'CarCompany_mitsubishi', 'CarCompany_nissan',\n",
       "       'CarCompany_peugeot', 'CarCompany_plymouth', 'CarCompany_porcshce',\n",
       "       'CarCompany_renault', 'CarCompany_saab', 'CarCompany_subaru',\n",
       "       'CarCompany_toyota', 'CarCompany_volkswagen', 'CarCompany_volvo'],\n",
       "      dtype='object')"
      ]
     },
     "execution_count": 22,
     "metadata": {},
     "output_type": "execute_result"
    }
   ],
   "source": [
    "df1.columns"
   ]
  },
  {
   "cell_type": "markdown",
   "id": "d8dc87ac",
   "metadata": {},
   "source": [
    "## Data Training and Testing"
   ]
  },
  {
   "cell_type": "code",
   "execution_count": 23,
   "id": "879acf48",
   "metadata": {},
   "outputs": [],
   "source": [
    "from sklearn.model_selection import train_test_split\n",
    "\n",
    "# We specify this so that the train and test data set always have the same rows, respectively\n",
    "np.random.seed(0)\n",
    "df_train, df_test = train_test_split(df1, train_size = 0.7, test_size = 0.3, random_state = 100)"
   ]
  },
  {
   "cell_type": "code",
   "execution_count": 24,
   "id": "379875c6",
   "metadata": {},
   "outputs": [],
   "source": [
    "#Using MixMax scaling for all significant variables\n",
    "from sklearn.preprocessing import MinMaxScaler\n",
    "scaler = MinMaxScaler()"
   ]
  },
  {
   "cell_type": "code",
   "execution_count": 25,
   "id": "06094343",
   "metadata": {
    "collapsed": true
   },
   "outputs": [
    {
     "name": "stderr",
     "output_type": "stream",
     "text": [
      "<ipython-input-25-e47425ac569b>:5: SettingWithCopyWarning: \n",
      "A value is trying to be set on a copy of a slice from a DataFrame.\n",
      "Try using .loc[row_indexer,col_indexer] = value instead\n",
      "\n",
      "See the caveats in the documentation: https://pandas.pydata.org/pandas-docs/stable/user_guide/indexing.html#returning-a-view-versus-a-copy\n",
      "  df_train[num_vars] = scaler.fit_transform(df_train[num_vars])\n",
      "C:\\Users\\kelso\\anaconda3\\lib\\site-packages\\pandas\\core\\indexing.py:1738: SettingWithCopyWarning: \n",
      "A value is trying to be set on a copy of a slice from a DataFrame.\n",
      "Try using .loc[row_indexer,col_indexer] = value instead\n",
      "\n",
      "See the caveats in the documentation: https://pandas.pydata.org/pandas-docs/stable/user_guide/indexing.html#returning-a-view-versus-a-copy\n",
      "  self._setitem_single_column(loc, value[:, i].tolist(), pi)\n"
     ]
    }
   ],
   "source": [
    "# Apply scaler() to all the columns except the 'yes-no' and 'dummy' variables\n",
    "num_vars = ['wheelbase','carlength','carwidth','carweight','enginesize',\n",
    "            'horsepower','price','cylindernumber']\n",
    "\n",
    "df_train[num_vars] = scaler.fit_transform(df_train[num_vars])"
   ]
  },
  {
   "cell_type": "code",
   "execution_count": 26,
   "id": "9098cf04",
   "metadata": {
    "collapsed": true
   },
   "outputs": [
    {
     "name": "stdout",
     "output_type": "stream",
     "text": [
      "<class 'pandas.core.frame.DataFrame'>\n",
      "Int64Index: 143 entries, 122 to 8\n",
      "Data columns (total 51 columns):\n",
      " #   Column                 Non-Null Count  Dtype  \n",
      "---  ------                 --------------  -----  \n",
      " 0   wheelbase              143 non-null    float64\n",
      " 1   carlength              143 non-null    float64\n",
      " 2   carwidth               143 non-null    float64\n",
      " 3   carweight              143 non-null    float64\n",
      " 4   cylindernumber         143 non-null    float64\n",
      " 5   enginesize             143 non-null    float64\n",
      " 6   boreratio              143 non-null    float64\n",
      " 7   horsepower             143 non-null    float64\n",
      " 8   price                  143 non-null    float64\n",
      " 9   fueltype_gas           143 non-null    uint8  \n",
      " 10  aspiration_turbo       143 non-null    uint8  \n",
      " 11  carbody_hardtop        143 non-null    uint8  \n",
      " 12  carbody_hatchback      143 non-null    uint8  \n",
      " 13  carbody_sedan          143 non-null    uint8  \n",
      " 14  carbody_wagon          143 non-null    uint8  \n",
      " 15  drivewheel_fwd         143 non-null    uint8  \n",
      " 16  drivewheel_rwd         143 non-null    uint8  \n",
      " 17  enginetype_dohcv       143 non-null    uint8  \n",
      " 18  enginetype_l           143 non-null    uint8  \n",
      " 19  enginetype_ohc         143 non-null    uint8  \n",
      " 20  enginetype_ohcf        143 non-null    uint8  \n",
      " 21  enginetype_ohcv        143 non-null    uint8  \n",
      " 22  enginetype_rotor       143 non-null    uint8  \n",
      " 23  fuelsystem_2bbl        143 non-null    uint8  \n",
      " 24  fuelsystem_4bbl        143 non-null    uint8  \n",
      " 25  fuelsystem_idi         143 non-null    uint8  \n",
      " 26  fuelsystem_mfi         143 non-null    uint8  \n",
      " 27  fuelsystem_mpfi        143 non-null    uint8  \n",
      " 28  fuelsystem_spdi        143 non-null    uint8  \n",
      " 29  fuelsystem_spfi        143 non-null    uint8  \n",
      " 30  CarCompany_audi        143 non-null    uint8  \n",
      " 31  CarCompany_bmw         143 non-null    uint8  \n",
      " 32  CarCompany_buick       143 non-null    uint8  \n",
      " 33  CarCompany_chevrolet   143 non-null    uint8  \n",
      " 34  CarCompany_dodge       143 non-null    uint8  \n",
      " 35  CarCompany_honda       143 non-null    uint8  \n",
      " 36  CarCompany_isuzu       143 non-null    uint8  \n",
      " 37  CarCompany_jaguar      143 non-null    uint8  \n",
      " 38  CarCompany_mazda       143 non-null    uint8  \n",
      " 39  CarCompany_mercury     143 non-null    uint8  \n",
      " 40  CarCompany_mitsubishi  143 non-null    uint8  \n",
      " 41  CarCompany_nissan      143 non-null    uint8  \n",
      " 42  CarCompany_peugeot     143 non-null    uint8  \n",
      " 43  CarCompany_plymouth    143 non-null    uint8  \n",
      " 44  CarCompany_porcshce    143 non-null    uint8  \n",
      " 45  CarCompany_renault     143 non-null    uint8  \n",
      " 46  CarCompany_saab        143 non-null    uint8  \n",
      " 47  CarCompany_subaru      143 non-null    uint8  \n",
      " 48  CarCompany_toyota      143 non-null    uint8  \n",
      " 49  CarCompany_volkswagen  143 non-null    uint8  \n",
      " 50  CarCompany_volvo       143 non-null    uint8  \n",
      "dtypes: float64(9), uint8(42)\n",
      "memory usage: 17.0 KB\n"
     ]
    }
   ],
   "source": [
    "df_train.info()"
   ]
  },
  {
   "cell_type": "code",
   "execution_count": 27,
   "id": "e08e4d7e",
   "metadata": {},
   "outputs": [],
   "source": [
    "y_train = df_train.pop('price')\n",
    "X_train = df_train"
   ]
  },
  {
   "cell_type": "code",
   "execution_count": 28,
   "id": "3f134178",
   "metadata": {},
   "outputs": [],
   "source": [
    "from sklearn.feature_selection import RFE\n",
    "from sklearn.linear_model import LinearRegression"
   ]
  },
  {
   "cell_type": "code",
   "execution_count": 29,
   "id": "75245d9e",
   "metadata": {
    "collapsed": true
   },
   "outputs": [
    {
     "name": "stderr",
     "output_type": "stream",
     "text": [
      "C:\\Users\\kelso\\anaconda3\\lib\\site-packages\\sklearn\\utils\\validation.py:70: FutureWarning: Pass n_features_to_select=15 as keyword args. From version 1.0 (renaming of 0.25) passing these as positional arguments will result in an error\n",
      "  warnings.warn(f\"Pass {args_msg} as keyword args. From version \"\n"
     ]
    }
   ],
   "source": [
    "lm = LinearRegression()\n",
    "lm.fit(X_train, y_train)\n",
    "\n",
    "rfe = RFE(lm, 15)\n",
    "rfe = rfe.fit(X_train, y_train)"
   ]
  },
  {
   "cell_type": "code",
   "execution_count": 30,
   "id": "9ce10782",
   "metadata": {
    "collapsed": true
   },
   "outputs": [
    {
     "data": {
      "text/plain": [
       "[('wheelbase', False, 15),\n",
       " ('carlength', False, 6),\n",
       " ('carwidth', True, 1),\n",
       " ('carweight', True, 1),\n",
       " ('cylindernumber', False, 2),\n",
       " ('enginesize', False, 4),\n",
       " ('boreratio', False, 3),\n",
       " ('horsepower', True, 1),\n",
       " ('fueltype_gas', False, 31),\n",
       " ('aspiration_turbo', False, 17),\n",
       " ('carbody_hardtop', True, 1),\n",
       " ('carbody_hatchback', True, 1),\n",
       " ('carbody_sedan', True, 1),\n",
       " ('carbody_wagon', True, 1),\n",
       " ('drivewheel_fwd', False, 18),\n",
       " ('drivewheel_rwd', False, 22),\n",
       " ('enginetype_dohcv', False, 29),\n",
       " ('enginetype_l', True, 1),\n",
       " ('enginetype_ohc', False, 28),\n",
       " ('enginetype_ohcf', True, 1),\n",
       " ('enginetype_ohcv', False, 33),\n",
       " ('enginetype_rotor', False, 8),\n",
       " ('fuelsystem_2bbl', False, 32),\n",
       " ('fuelsystem_4bbl', False, 13),\n",
       " ('fuelsystem_idi', False, 30),\n",
       " ('fuelsystem_mfi', False, 35),\n",
       " ('fuelsystem_mpfi', False, 16),\n",
       " ('fuelsystem_spdi', False, 21),\n",
       " ('fuelsystem_spfi', False, 34),\n",
       " ('CarCompany_audi', False, 10),\n",
       " ('CarCompany_bmw', True, 1),\n",
       " ('CarCompany_buick', True, 1),\n",
       " ('CarCompany_chevrolet', False, 24),\n",
       " ('CarCompany_dodge', False, 19),\n",
       " ('CarCompany_honda', False, 14),\n",
       " ('CarCompany_isuzu', False, 9),\n",
       " ('CarCompany_jaguar', True, 1),\n",
       " ('CarCompany_mazda', False, 25),\n",
       " ('CarCompany_mercury', False, 36),\n",
       " ('CarCompany_mitsubishi', False, 12),\n",
       " ('CarCompany_nissan', False, 26),\n",
       " ('CarCompany_peugeot', True, 1),\n",
       " ('CarCompany_plymouth', False, 20),\n",
       " ('CarCompany_porcshce', True, 1),\n",
       " ('CarCompany_renault', False, 11),\n",
       " ('CarCompany_saab', False, 7),\n",
       " ('CarCompany_subaru', True, 1),\n",
       " ('CarCompany_toyota', False, 23),\n",
       " ('CarCompany_volkswagen', False, 27),\n",
       " ('CarCompany_volvo', False, 5)]"
      ]
     },
     "execution_count": 30,
     "metadata": {},
     "output_type": "execute_result"
    }
   ],
   "source": [
    "list(zip(X_train.columns,rfe.support_,rfe.ranking_))"
   ]
  },
  {
   "cell_type": "code",
   "execution_count": 31,
   "id": "9ac68bb4",
   "metadata": {},
   "outputs": [
    {
     "data": {
      "text/plain": [
       "Index(['carwidth', 'carweight', 'horsepower', 'carbody_hardtop',\n",
       "       'carbody_hatchback', 'carbody_sedan', 'carbody_wagon', 'enginetype_l',\n",
       "       'enginetype_ohcf', 'CarCompany_bmw', 'CarCompany_buick',\n",
       "       'CarCompany_jaguar', 'CarCompany_peugeot', 'CarCompany_porcshce',\n",
       "       'CarCompany_subaru'],\n",
       "      dtype='object')"
      ]
     },
     "execution_count": 31,
     "metadata": {},
     "output_type": "execute_result"
    }
   ],
   "source": [
    "col = X_train.columns[rfe.support_]\n",
    "col"
   ]
  },
  {
   "cell_type": "code",
   "execution_count": 32,
   "id": "a25d7699",
   "metadata": {},
   "outputs": [],
   "source": [
    "# Creating X_test dataframe with RFE selected variables\n",
    "X_train_rfe = X_train[col]"
   ]
  },
  {
   "cell_type": "code",
   "execution_count": 33,
   "id": "d9ab5be9",
   "metadata": {},
   "outputs": [],
   "source": [
    "import statsmodels.api as sm  \n",
    "X_train_rfe = sm.add_constant(X_train_rfe)"
   ]
  },
  {
   "cell_type": "code",
   "execution_count": 34,
   "id": "9b8ddc9f",
   "metadata": {},
   "outputs": [],
   "source": [
    "# Running the linear model\n",
    "lm = sm.OLS(y_train,X_train_rfe).fit()"
   ]
  },
  {
   "cell_type": "code",
   "execution_count": 35,
   "id": "962aeca2",
   "metadata": {},
   "outputs": [
    {
     "name": "stdout",
     "output_type": "stream",
     "text": [
      "                            OLS Regression Results                            \n",
      "==============================================================================\n",
      "Dep. Variable:                  price   R-squared:                       0.941\n",
      "Model:                            OLS   Adj. R-squared:                  0.934\n",
      "Method:                 Least Squares   F-statistic:                     135.5\n",
      "Date:                Sun, 24 Oct 2021   Prob (F-statistic):           1.97e-70\n",
      "Time:                        00:23:40   Log-Likelihood:                 219.55\n",
      "No. Observations:                 143   AIC:                            -407.1\n",
      "Df Residuals:                     127   BIC:                            -359.7\n",
      "Df Model:                          15                                         \n",
      "Covariance Type:            nonrobust                                         \n",
      "=======================================================================================\n",
      "                          coef    std err          t      P>|t|      [0.025      0.975]\n",
      "---------------------------------------------------------------------------------------\n",
      "const                  -0.0348      0.031     -1.113      0.268      -0.097       0.027\n",
      "carwidth                0.3420      0.062      5.478      0.000       0.218       0.466\n",
      "carweight               0.3438      0.071      4.841      0.000       0.203       0.484\n",
      "horsepower              0.1962      0.063      3.114      0.002       0.072       0.321\n",
      "carbody_hardtop        -0.1138      0.049     -2.343      0.021      -0.210      -0.018\n",
      "carbody_hatchback      -0.1200      0.030     -3.962      0.000      -0.180      -0.060\n",
      "carbody_sedan          -0.1055      0.030     -3.485      0.001      -0.165      -0.046\n",
      "carbody_wagon          -0.1335      0.032     -4.180      0.000      -0.197      -0.070\n",
      "enginetype_l            0.1557      0.058      2.694      0.008       0.041       0.270\n",
      "enginetype_ohcf         0.3961      0.081      4.866      0.000       0.235       0.557\n",
      "CarCompany_bmw          0.2886      0.025     11.322      0.000       0.238       0.339\n",
      "CarCompany_buick        0.1701      0.034      5.047      0.000       0.103       0.237\n",
      "CarCompany_jaguar       0.2136      0.040      5.393      0.000       0.135       0.292\n",
      "CarCompany_peugeot     -0.2236      0.066     -3.406      0.001      -0.353      -0.094\n",
      "CarCompany_porcshce     0.1181      0.046      2.562      0.012       0.027       0.209\n",
      "CarCompany_subaru      -0.4252      0.084     -5.088      0.000      -0.591      -0.260\n",
      "==============================================================================\n",
      "Omnibus:                       41.362   Durbin-Watson:                   1.978\n",
      "Prob(Omnibus):                  0.000   Jarque-Bera (JB):              144.365\n",
      "Skew:                           1.020   Prob(JB):                     4.48e-32\n",
      "Kurtosis:                       7.480   Cond. No.                         36.1\n",
      "==============================================================================\n",
      "\n",
      "Notes:\n",
      "[1] Standard Errors assume that the covariance matrix of the errors is correctly specified.\n"
     ]
    }
   ],
   "source": [
    "print(lm.summary())"
   ]
  },
  {
   "cell_type": "code",
   "execution_count": 36,
   "id": "efce6244",
   "metadata": {},
   "outputs": [],
   "source": [
    "X_train_new = X_train_rfe.drop([\"carbody_hardtop\",\"carweight\",\"carbody_hardtop\",\"enginetype_l\",\n",
    "                               \"carbody_sedan\",\"carbody_wagon\",\"enginetype_ohcf\",\"CarCompany_bmw\",\n",
    "                                \"CarCompany_buick\",\"CarCompany_jaguar\",\"CarCompany_peugeot\",\n",
    "                                \"CarCompany_porcshce\",\"CarCompany_subaru\"],axis = 1)"
   ]
  },
  {
   "cell_type": "code",
   "execution_count": 37,
   "id": "c51d3785",
   "metadata": {},
   "outputs": [
    {
     "name": "stdout",
     "output_type": "stream",
     "text": [
      "                            OLS Regression Results                            \n",
      "==============================================================================\n",
      "Dep. Variable:                  price   R-squared:                       0.784\n",
      "Model:                            OLS   Adj. R-squared:                  0.779\n",
      "Method:                 Least Squares   F-statistic:                     167.7\n",
      "Date:                Sun, 24 Oct 2021   Prob (F-statistic):           5.39e-46\n",
      "Time:                        00:23:44   Log-Likelihood:                 126.37\n",
      "No. Observations:                 143   AIC:                            -244.7\n",
      "Df Residuals:                     139   BIC:                            -232.9\n",
      "Df Model:                           3                                         \n",
      "Covariance Type:            nonrobust                                         \n",
      "=====================================================================================\n",
      "                        coef    std err          t      P>|t|      [0.025      0.975]\n",
      "-------------------------------------------------------------------------------------\n",
      "const                -0.1348      0.026     -5.149      0.000      -0.187      -0.083\n",
      "carwidth              0.4819      0.066      7.318      0.000       0.352       0.612\n",
      "horsepower            0.6760      0.072      9.443      0.000       0.534       0.818\n",
      "carbody_hatchback    -0.0642      0.019     -3.452      0.001      -0.101      -0.027\n",
      "==============================================================================\n",
      "Omnibus:                       36.205   Durbin-Watson:                   1.699\n",
      "Prob(Omnibus):                  0.000   Jarque-Bera (JB):               70.753\n",
      "Skew:                           1.125   Prob(JB):                     4.33e-16\n",
      "Kurtosis:                       5.611   Cond. No.                         12.7\n",
      "==============================================================================\n",
      "\n",
      "Notes:\n",
      "[1] Standard Errors assume that the covariance matrix of the errors is correctly specified.\n"
     ]
    }
   ],
   "source": [
    "X_train_lm = sm.add_constant(X_train_new)\n",
    "lm = sm.OLS(y_train,X_train_lm).fit() \n",
    "print(lm.summary())"
   ]
  },
  {
   "cell_type": "code",
   "execution_count": 38,
   "id": "63275dd5",
   "metadata": {
    "scrolled": true
   },
   "outputs": [
    {
     "data": {
      "text/html": [
       "<div>\n",
       "<style scoped>\n",
       "    .dataframe tbody tr th:only-of-type {\n",
       "        vertical-align: middle;\n",
       "    }\n",
       "\n",
       "    .dataframe tbody tr th {\n",
       "        vertical-align: top;\n",
       "    }\n",
       "\n",
       "    .dataframe thead th {\n",
       "        text-align: right;\n",
       "    }\n",
       "</style>\n",
       "<table border=\"1\" class=\"dataframe\">\n",
       "  <thead>\n",
       "    <tr style=\"text-align: right;\">\n",
       "      <th></th>\n",
       "      <th>Features</th>\n",
       "      <th>VIF</th>\n",
       "    </tr>\n",
       "  </thead>\n",
       "  <tbody>\n",
       "    <tr>\n",
       "      <th>0</th>\n",
       "      <td>const</td>\n",
       "      <td>9.53</td>\n",
       "    </tr>\n",
       "    <tr>\n",
       "      <th>1</th>\n",
       "      <td>carwidth</td>\n",
       "      <td>2.04</td>\n",
       "    </tr>\n",
       "    <tr>\n",
       "      <th>2</th>\n",
       "      <td>horsepower</td>\n",
       "      <td>1.94</td>\n",
       "    </tr>\n",
       "    <tr>\n",
       "      <th>3</th>\n",
       "      <td>carbody_hatchback</td>\n",
       "      <td>1.08</td>\n",
       "    </tr>\n",
       "  </tbody>\n",
       "</table>\n",
       "</div>"
      ],
      "text/plain": [
       "            Features   VIF\n",
       "0              const  9.53\n",
       "1           carwidth  2.04\n",
       "2         horsepower  1.94\n",
       "3  carbody_hatchback  1.08"
      ]
     },
     "execution_count": 38,
     "metadata": {},
     "output_type": "execute_result"
    }
   ],
   "source": [
    "from statsmodels.stats.outliers_influence import variance_inflation_factor\n",
    "\n",
    "vif = pd.DataFrame()\n",
    "X = X_train_new\n",
    "vif['Features'] = X.columns\n",
    "vif['VIF'] = [variance_inflation_factor(X.values, i) for i in range(X.shape[1])]\n",
    "vif['VIF'] = round(vif['VIF'], 2)\n",
    "vif = vif.sort_values(by = \"VIF\", ascending = False)\n",
    "vif"
   ]
  },
  {
   "cell_type": "markdown",
   "id": "3a3908c0",
   "metadata": {},
   "source": [
    "As all variables has VIF value < 5 as well as pvalue<0.05, dropping a variables has stopped and proceed with residual analysis and proceed with residual analysis\n",
    "\n",
    "Residual Analysis of the train data\n",
    "\n",
    "So, now to check if the error terms are also normally distributed (which is infact, one of the major assumptions of linear regression),\n",
    "\n",
    "let us plot the histogram of the error terms and see what it looks like"
   ]
  },
  {
   "cell_type": "code",
   "execution_count": 39,
   "id": "7fd339e5",
   "metadata": {},
   "outputs": [],
   "source": [
    "y_train_price = lm.predict(X_train_lm)"
   ]
  },
  {
   "cell_type": "code",
   "execution_count": 40,
   "id": "2622dee1",
   "metadata": {},
   "outputs": [],
   "source": [
    "# Importing the required libraries for plots.\n",
    "import matplotlib.pyplot as plt\n",
    "import seaborn as sns\n",
    "%matplotlib inline"
   ]
  },
  {
   "cell_type": "code",
   "execution_count": 41,
   "id": "beda751e",
   "metadata": {
    "scrolled": false
   },
   "outputs": [
    {
     "name": "stderr",
     "output_type": "stream",
     "text": [
      "C:\\Users\\kelso\\anaconda3\\lib\\site-packages\\seaborn\\distributions.py:2557: FutureWarning: `distplot` is a deprecated function and will be removed in a future version. Please adapt your code to use either `displot` (a figure-level function with similar flexibility) or `histplot` (an axes-level function for histograms).\n",
      "  warnings.warn(msg, FutureWarning)\n"
     ]
    },
    {
     "data": {
      "text/plain": [
       "Text(0.5, 0, 'Errors')"
      ]
     },
     "execution_count": 41,
     "metadata": {},
     "output_type": "execute_result"
    },
    {
     "data": {
      "image/png": "[encoded data removed]",
      "text/plain": [
       "<Figure size 432x288 with 1 Axes>"
      ]
     },
     "metadata": {
      "needs_background": "light"
     },
     "output_type": "display_data"
    }
   ],
   "source": [
    "# Plot the histogram of the error terms\n",
    "fig = plt.figure()\n",
    "sns.distplot((y_train - y_train_price), bins = 20)\n",
    "fig.suptitle('Error Terms', fontsize = 20)                  # Plot heading \n",
    "plt.xlabel('Errors', fontsize = 18)"
   ]
  },
  {
   "cell_type": "code",
   "execution_count": 42,
   "id": "0e670167",
   "metadata": {},
   "outputs": [
    {
     "name": "stderr",
     "output_type": "stream",
     "text": [
      "<ipython-input-42-d3d2c1d092a9>:4: SettingWithCopyWarning: \n",
      "A value is trying to be set on a copy of a slice from a DataFrame.\n",
      "Try using .loc[row_indexer,col_indexer] = value instead\n",
      "\n",
      "See the caveats in the documentation: https://pandas.pydata.org/pandas-docs/stable/user_guide/indexing.html#returning-a-view-versus-a-copy\n",
      "  df_test[num_vars] = scaler.transform(df_test[num_vars])\n",
      "C:\\Users\\kelso\\anaconda3\\lib\\site-packages\\pandas\\core\\indexing.py:1738: SettingWithCopyWarning: \n",
      "A value is trying to be set on a copy of a slice from a DataFrame.\n",
      "Try using .loc[row_indexer,col_indexer] = value instead\n",
      "\n",
      "See the caveats in the documentation: https://pandas.pydata.org/pandas-docs/stable/user_guide/indexing.html#returning-a-view-versus-a-copy\n",
      "  self._setitem_single_column(loc, value[:, i].tolist(), pi)\n"
     ]
    }
   ],
   "source": [
    "num_vars = ['wheelbase','carlength','carwidth','carweight',\n",
    "            'enginesize', 'horsepower','price','cylindernumber']\n",
    "\n",
    "df_test[num_vars] = scaler.transform(df_test[num_vars])"
   ]
  },
  {
   "cell_type": "code",
   "execution_count": 43,
   "id": "14e99e9a",
   "metadata": {},
   "outputs": [],
   "source": [
    "y_test = df_test.pop('price')\n",
    "X_test = df_test"
   ]
  },
  {
   "cell_type": "code",
   "execution_count": 44,
   "id": "feaa48f8",
   "metadata": {},
   "outputs": [],
   "source": [
    "X_train_new = X_train_new.drop('const',axis=1)\n",
    "X_test_new = X_test[X_train_new.columns]\n",
    "\n",
    "X_test_new = sm.add_constant(X_test_new)"
   ]
  },
  {
   "cell_type": "code",
   "execution_count": 45,
   "id": "ba88a70c",
   "metadata": {},
   "outputs": [],
   "source": [
    "y_pred = lm.predict(X_test_new)"
   ]
  },
  {
   "cell_type": "code",
   "execution_count": 46,
   "id": "613eefb2",
   "metadata": {
    "scrolled": true
   },
   "outputs": [
    {
     "data": {
      "text/plain": [
       "Text(0, 0.5, 'y_pred')"
      ]
     },
     "execution_count": 46,
     "metadata": {},
     "output_type": "execute_result"
    },
    {
     "data": {
      "image/png": "[encoded data removed]",
      "text/plain": [
       "<Figure size 432x288 with 1 Axes>"
      ]
     },
     "metadata": {
      "needs_background": "light"
     },
     "output_type": "display_data"
    }
   ],
   "source": [
    "fig = plt.figure()\n",
    "plt.scatter(y_test,y_pred)\n",
    "fig.suptitle('y_test vs y_pred', fontsize=20)               \n",
    "plt.xlabel('y_test', fontsize=18)                          \n",
    "plt.ylabel('y_pred', fontsize=16)"
   ]
  },
  {
   "cell_type": "code",
   "execution_count": 47,
   "id": "873f6c53",
   "metadata": {},
   "outputs": [
    {
     "data": {
      "text/plain": [
       "0.7441804110106259"
      ]
     },
     "execution_count": 47,
     "metadata": {},
     "output_type": "execute_result"
    }
   ],
   "source": [
    "from sklearn.metrics import r2_score \n",
    "r2_score(y_test, y_pred)"
   ]
  },
  {
   "cell_type": "code",
   "execution_count": 48,
   "id": "41125182",
   "metadata": {},
   "outputs": [
    {
     "name": "stdout",
     "output_type": "stream",
     "text": [
      "                            OLS Regression Results                            \n",
      "==============================================================================\n",
      "Dep. Variable:                  price   R-squared:                       0.784\n",
      "Model:                            OLS   Adj. R-squared:                  0.779\n",
      "Method:                 Least Squares   F-statistic:                     167.7\n",
      "Date:                Sun, 24 Oct 2021   Prob (F-statistic):           5.39e-46\n",
      "Time:                        00:23:57   Log-Likelihood:                 126.37\n",
      "No. Observations:                 143   AIC:                            -244.7\n",
      "Df Residuals:                     139   BIC:                            -232.9\n",
      "Df Model:                           3                                         \n",
      "Covariance Type:            nonrobust                                         \n",
      "=====================================================================================\n",
      "                        coef    std err          t      P>|t|      [0.025      0.975]\n",
      "-------------------------------------------------------------------------------------\n",
      "const                -0.1348      0.026     -5.149      0.000      -0.187      -0.083\n",
      "carwidth              0.4819      0.066      7.318      0.000       0.352       0.612\n",
      "horsepower            0.6760      0.072      9.443      0.000       0.534       0.818\n",
      "carbody_hatchback    -0.0642      0.019     -3.452      0.001      -0.101      -0.027\n",
      "==============================================================================\n",
      "Omnibus:                       36.205   Durbin-Watson:                   1.699\n",
      "Prob(Omnibus):                  0.000   Jarque-Bera (JB):               70.753\n",
      "Skew:                           1.125   Prob(JB):                     4.33e-16\n",
      "Kurtosis:                       5.611   Cond. No.                         12.7\n",
      "==============================================================================\n",
      "\n",
      "Notes:\n",
      "[1] Standard Errors assume that the covariance matrix of the errors is correctly specified.\n"
     ]
    }
   ],
   "source": [
    "print(lm.summary())"
   ]
  },
  {
   "cell_type": "code",
   "execution_count": null,
   "id": "5efde810",
   "metadata": {},
   "outputs": [],
   "source": []
  },
  {
   "cell_type": "code",
   "execution_count": null,
   "id": "e6a016a8",
   "metadata": {},
   "outputs": [],
   "source": []
  },
  {
   "cell_type": "code",
   "execution_count": null,
   "id": "c08d3379",
   "metadata": {},
   "outputs": [],
   "source": []
  },
  {
   "cell_type": "code",
   "execution_count": null,
   "id": "ff717813",
   "metadata": {},
   "outputs": [],
   "source": []
  },
  {
   "cell_type": "code",
   "execution_count": null,
   "id": "b3eabc70",
   "metadata": {},
   "outputs": [],
   "source": []
  }
 ],
 "metadata": {
  "kernelspec": {
   "display_name": "Python 3",
   "language": "python",
   "name": "python3"
  },
  "language_info": {
   "codemirror_mode": {
    "name": "ipython",
    "version": 3
   },
   "file_extension": ".py",
   "mimetype": "text/x-python",
   "name": "python",
   "nbconvert_exporter": "python",
   "pygments_lexer": "ipython3",
   "version": "3.8.8"
  }
 },
 "nbformat": 4,
 "nbformat_minor": 5
}
