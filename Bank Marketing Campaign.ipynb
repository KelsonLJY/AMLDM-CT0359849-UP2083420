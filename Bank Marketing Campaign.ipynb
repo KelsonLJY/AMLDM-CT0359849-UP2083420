{
 "cells": [
  {
   "cell_type": "code",
   "execution_count": 2,
   "id": "a94f9e4b",
   "metadata": {},
   "outputs": [],
   "source": [
    "import pandas as pd\n",
    "import numpy as np\n",
    "import matplotlib.pyplot as plt"
   ]
  },
  {
   "cell_type": "code",
   "execution_count": 3,
   "id": "c0416ffd",
   "metadata": {
    "scrolled": false
   },
   "outputs": [
    {
     "data": {
      "text/html": [
       "<div>\n",
       "<style scoped>\n",
       "    .dataframe tbody tr th:only-of-type {\n",
       "        vertical-align: middle;\n",
       "    }\n",
       "\n",
       "    .dataframe tbody tr th {\n",
       "        vertical-align: top;\n",
       "    }\n",
       "\n",
       "    .dataframe thead th {\n",
       "        text-align: right;\n",
       "    }\n",
       "</style>\n",
       "<table border=\"1\" class=\"dataframe\">\n",
       "  <thead>\n",
       "    <tr style=\"text-align: right;\">\n",
       "      <th></th>\n",
       "      <th>age</th>\n",
       "      <th>job</th>\n",
       "      <th>marital</th>\n",
       "      <th>education</th>\n",
       "      <th>default</th>\n",
       "      <th>housing</th>\n",
       "      <th>loan</th>\n",
       "      <th>contact</th>\n",
       "      <th>month</th>\n",
       "      <th>day_of_week</th>\n",
       "      <th>campaign</th>\n",
       "      <th>pdays</th>\n",
       "      <th>previous</th>\n",
       "      <th>poutcome</th>\n",
       "      <th>emp.var.rate</th>\n",
       "      <th>cons.price.idx</th>\n",
       "      <th>cons.conf.idx</th>\n",
       "      <th>euribor3m</th>\n",
       "      <th>nr.employed</th>\n",
       "      <th>y</th>\n",
       "    </tr>\n",
       "  </thead>\n",
       "  <tbody>\n",
       "    <tr>\n",
       "      <th>0</th>\n",
       "      <td>30</td>\n",
       "      <td>blue-collar</td>\n",
       "      <td>married</td>\n",
       "      <td>basic.9y</td>\n",
       "      <td>no</td>\n",
       "      <td>yes</td>\n",
       "      <td>no</td>\n",
       "      <td>cellular</td>\n",
       "      <td>may</td>\n",
       "      <td>fri</td>\n",
       "      <td>2</td>\n",
       "      <td>999</td>\n",
       "      <td>0</td>\n",
       "      <td>nonexistent</td>\n",
       "      <td>-1.8</td>\n",
       "      <td>92.893</td>\n",
       "      <td>-46.2</td>\n",
       "      <td>1.313</td>\n",
       "      <td>5099.1</td>\n",
       "      <td>no</td>\n",
       "    </tr>\n",
       "    <tr>\n",
       "      <th>1</th>\n",
       "      <td>39</td>\n",
       "      <td>services</td>\n",
       "      <td>single</td>\n",
       "      <td>high.school</td>\n",
       "      <td>no</td>\n",
       "      <td>no</td>\n",
       "      <td>no</td>\n",
       "      <td>telephone</td>\n",
       "      <td>may</td>\n",
       "      <td>fri</td>\n",
       "      <td>4</td>\n",
       "      <td>999</td>\n",
       "      <td>0</td>\n",
       "      <td>nonexistent</td>\n",
       "      <td>1.1</td>\n",
       "      <td>93.994</td>\n",
       "      <td>-36.4</td>\n",
       "      <td>4.855</td>\n",
       "      <td>5191.0</td>\n",
       "      <td>no</td>\n",
       "    </tr>\n",
       "    <tr>\n",
       "      <th>2</th>\n",
       "      <td>25</td>\n",
       "      <td>services</td>\n",
       "      <td>married</td>\n",
       "      <td>high.school</td>\n",
       "      <td>no</td>\n",
       "      <td>yes</td>\n",
       "      <td>no</td>\n",
       "      <td>telephone</td>\n",
       "      <td>jun</td>\n",
       "      <td>wed</td>\n",
       "      <td>1</td>\n",
       "      <td>999</td>\n",
       "      <td>0</td>\n",
       "      <td>nonexistent</td>\n",
       "      <td>1.4</td>\n",
       "      <td>94.465</td>\n",
       "      <td>-41.8</td>\n",
       "      <td>4.962</td>\n",
       "      <td>5228.1</td>\n",
       "      <td>no</td>\n",
       "    </tr>\n",
       "    <tr>\n",
       "      <th>3</th>\n",
       "      <td>38</td>\n",
       "      <td>services</td>\n",
       "      <td>married</td>\n",
       "      <td>basic.9y</td>\n",
       "      <td>no</td>\n",
       "      <td>unknown</td>\n",
       "      <td>unknown</td>\n",
       "      <td>telephone</td>\n",
       "      <td>jun</td>\n",
       "      <td>fri</td>\n",
       "      <td>3</td>\n",
       "      <td>999</td>\n",
       "      <td>0</td>\n",
       "      <td>nonexistent</td>\n",
       "      <td>1.4</td>\n",
       "      <td>94.465</td>\n",
       "      <td>-41.8</td>\n",
       "      <td>4.959</td>\n",
       "      <td>5228.1</td>\n",
       "      <td>no</td>\n",
       "    </tr>\n",
       "    <tr>\n",
       "      <th>4</th>\n",
       "      <td>47</td>\n",
       "      <td>admin.</td>\n",
       "      <td>married</td>\n",
       "      <td>university.degree</td>\n",
       "      <td>no</td>\n",
       "      <td>yes</td>\n",
       "      <td>no</td>\n",
       "      <td>cellular</td>\n",
       "      <td>nov</td>\n",
       "      <td>mon</td>\n",
       "      <td>1</td>\n",
       "      <td>999</td>\n",
       "      <td>0</td>\n",
       "      <td>nonexistent</td>\n",
       "      <td>-0.1</td>\n",
       "      <td>93.200</td>\n",
       "      <td>-42.0</td>\n",
       "      <td>4.191</td>\n",
       "      <td>5195.8</td>\n",
       "      <td>no</td>\n",
       "    </tr>\n",
       "    <tr>\n",
       "      <th>...</th>\n",
       "      <td>...</td>\n",
       "      <td>...</td>\n",
       "      <td>...</td>\n",
       "      <td>...</td>\n",
       "      <td>...</td>\n",
       "      <td>...</td>\n",
       "      <td>...</td>\n",
       "      <td>...</td>\n",
       "      <td>...</td>\n",
       "      <td>...</td>\n",
       "      <td>...</td>\n",
       "      <td>...</td>\n",
       "      <td>...</td>\n",
       "      <td>...</td>\n",
       "      <td>...</td>\n",
       "      <td>...</td>\n",
       "      <td>...</td>\n",
       "      <td>...</td>\n",
       "      <td>...</td>\n",
       "      <td>...</td>\n",
       "    </tr>\n",
       "    <tr>\n",
       "      <th>4114</th>\n",
       "      <td>30</td>\n",
       "      <td>admin.</td>\n",
       "      <td>married</td>\n",
       "      <td>basic.6y</td>\n",
       "      <td>no</td>\n",
       "      <td>yes</td>\n",
       "      <td>yes</td>\n",
       "      <td>cellular</td>\n",
       "      <td>jul</td>\n",
       "      <td>thu</td>\n",
       "      <td>1</td>\n",
       "      <td>999</td>\n",
       "      <td>0</td>\n",
       "      <td>nonexistent</td>\n",
       "      <td>1.4</td>\n",
       "      <td>93.918</td>\n",
       "      <td>-42.7</td>\n",
       "      <td>4.958</td>\n",
       "      <td>5228.1</td>\n",
       "      <td>no</td>\n",
       "    </tr>\n",
       "    <tr>\n",
       "      <th>4115</th>\n",
       "      <td>39</td>\n",
       "      <td>admin.</td>\n",
       "      <td>married</td>\n",
       "      <td>high.school</td>\n",
       "      <td>no</td>\n",
       "      <td>yes</td>\n",
       "      <td>no</td>\n",
       "      <td>telephone</td>\n",
       "      <td>jul</td>\n",
       "      <td>fri</td>\n",
       "      <td>1</td>\n",
       "      <td>999</td>\n",
       "      <td>0</td>\n",
       "      <td>nonexistent</td>\n",
       "      <td>1.4</td>\n",
       "      <td>93.918</td>\n",
       "      <td>-42.7</td>\n",
       "      <td>4.959</td>\n",
       "      <td>5228.1</td>\n",
       "      <td>no</td>\n",
       "    </tr>\n",
       "    <tr>\n",
       "      <th>4116</th>\n",
       "      <td>27</td>\n",
       "      <td>student</td>\n",
       "      <td>single</td>\n",
       "      <td>high.school</td>\n",
       "      <td>no</td>\n",
       "      <td>no</td>\n",
       "      <td>no</td>\n",
       "      <td>cellular</td>\n",
       "      <td>may</td>\n",
       "      <td>mon</td>\n",
       "      <td>2</td>\n",
       "      <td>999</td>\n",
       "      <td>1</td>\n",
       "      <td>failure</td>\n",
       "      <td>-1.8</td>\n",
       "      <td>92.893</td>\n",
       "      <td>-46.2</td>\n",
       "      <td>1.354</td>\n",
       "      <td>5099.1</td>\n",
       "      <td>no</td>\n",
       "    </tr>\n",
       "    <tr>\n",
       "      <th>4117</th>\n",
       "      <td>58</td>\n",
       "      <td>admin.</td>\n",
       "      <td>married</td>\n",
       "      <td>high.school</td>\n",
       "      <td>no</td>\n",
       "      <td>no</td>\n",
       "      <td>no</td>\n",
       "      <td>cellular</td>\n",
       "      <td>aug</td>\n",
       "      <td>fri</td>\n",
       "      <td>1</td>\n",
       "      <td>999</td>\n",
       "      <td>0</td>\n",
       "      <td>nonexistent</td>\n",
       "      <td>1.4</td>\n",
       "      <td>93.444</td>\n",
       "      <td>-36.1</td>\n",
       "      <td>4.966</td>\n",
       "      <td>5228.1</td>\n",
       "      <td>no</td>\n",
       "    </tr>\n",
       "    <tr>\n",
       "      <th>4118</th>\n",
       "      <td>34</td>\n",
       "      <td>management</td>\n",
       "      <td>single</td>\n",
       "      <td>high.school</td>\n",
       "      <td>no</td>\n",
       "      <td>yes</td>\n",
       "      <td>no</td>\n",
       "      <td>cellular</td>\n",
       "      <td>nov</td>\n",
       "      <td>wed</td>\n",
       "      <td>1</td>\n",
       "      <td>999</td>\n",
       "      <td>0</td>\n",
       "      <td>nonexistent</td>\n",
       "      <td>-0.1</td>\n",
       "      <td>93.200</td>\n",
       "      <td>-42.0</td>\n",
       "      <td>4.120</td>\n",
       "      <td>5195.8</td>\n",
       "      <td>no</td>\n",
       "    </tr>\n",
       "  </tbody>\n",
       "</table>\n",
       "<p>4119 rows × 20 columns</p>\n",
       "</div>"
      ],
      "text/plain": [
       "      age          job  marital          education default  housing     loan  \\\n",
       "0      30  blue-collar  married           basic.9y      no      yes       no   \n",
       "1      39     services   single        high.school      no       no       no   \n",
       "2      25     services  married        high.school      no      yes       no   \n",
       "3      38     services  married           basic.9y      no  unknown  unknown   \n",
       "4      47       admin.  married  university.degree      no      yes       no   \n",
       "...   ...          ...      ...                ...     ...      ...      ...   \n",
       "4114   30       admin.  married           basic.6y      no      yes      yes   \n",
       "4115   39       admin.  married        high.school      no      yes       no   \n",
       "4116   27      student   single        high.school      no       no       no   \n",
       "4117   58       admin.  married        high.school      no       no       no   \n",
       "4118   34   management   single        high.school      no      yes       no   \n",
       "\n",
       "        contact month day_of_week  campaign  pdays  previous     poutcome  \\\n",
       "0      cellular   may         fri         2    999         0  nonexistent   \n",
       "1     telephone   may         fri         4    999         0  nonexistent   \n",
       "2     telephone   jun         wed         1    999         0  nonexistent   \n",
       "3     telephone   jun         fri         3    999         0  nonexistent   \n",
       "4      cellular   nov         mon         1    999         0  nonexistent   \n",
       "...         ...   ...         ...       ...    ...       ...          ...   \n",
       "4114   cellular   jul         thu         1    999         0  nonexistent   \n",
       "4115  telephone   jul         fri         1    999         0  nonexistent   \n",
       "4116   cellular   may         mon         2    999         1      failure   \n",
       "4117   cellular   aug         fri         1    999         0  nonexistent   \n",
       "4118   cellular   nov         wed         1    999         0  nonexistent   \n",
       "\n",
       "      emp.var.rate  cons.price.idx  cons.conf.idx  euribor3m  nr.employed   y  \n",
       "0             -1.8          92.893          -46.2      1.313       5099.1  no  \n",
       "1              1.1          93.994          -36.4      4.855       5191.0  no  \n",
       "2              1.4          94.465          -41.8      4.962       5228.1  no  \n",
       "3              1.4          94.465          -41.8      4.959       5228.1  no  \n",
       "4             -0.1          93.200          -42.0      4.191       5195.8  no  \n",
       "...            ...             ...            ...        ...          ...  ..  \n",
       "4114           1.4          93.918          -42.7      4.958       5228.1  no  \n",
       "4115           1.4          93.918          -42.7      4.959       5228.1  no  \n",
       "4116          -1.8          92.893          -46.2      1.354       5099.1  no  \n",
       "4117           1.4          93.444          -36.1      4.966       5228.1  no  \n",
       "4118          -0.1          93.200          -42.0      4.120       5195.8  no  \n",
       "\n",
       "[4119 rows x 20 columns]"
      ]
     },
     "execution_count": 3,
     "metadata": {},
     "output_type": "execute_result"
    }
   ],
   "source": [
    "df = pd.read_csv('https://bit.ly/3m0M6yL')\n",
    "df"
   ]
  },
  {
   "cell_type": "code",
   "execution_count": 4,
   "id": "49fd1e09",
   "metadata": {
    "scrolled": false
   },
   "outputs": [
    {
     "data": {
      "text/html": [
       "<div>\n",
       "<style scoped>\n",
       "    .dataframe tbody tr th:only-of-type {\n",
       "        vertical-align: middle;\n",
       "    }\n",
       "\n",
       "    .dataframe tbody tr th {\n",
       "        vertical-align: top;\n",
       "    }\n",
       "\n",
       "    .dataframe thead th {\n",
       "        text-align: right;\n",
       "    }\n",
       "</style>\n",
       "<table border=\"1\" class=\"dataframe\">\n",
       "  <thead>\n",
       "    <tr style=\"text-align: right;\">\n",
       "      <th></th>\n",
       "      <th>0</th>\n",
       "      <th>1</th>\n",
       "      <th>2</th>\n",
       "      <th>3</th>\n",
       "      <th>4</th>\n",
       "    </tr>\n",
       "  </thead>\n",
       "  <tbody>\n",
       "    <tr>\n",
       "      <th>age</th>\n",
       "      <td>30</td>\n",
       "      <td>39</td>\n",
       "      <td>25</td>\n",
       "      <td>38</td>\n",
       "      <td>47</td>\n",
       "    </tr>\n",
       "    <tr>\n",
       "      <th>job</th>\n",
       "      <td>blue-collar</td>\n",
       "      <td>services</td>\n",
       "      <td>services</td>\n",
       "      <td>services</td>\n",
       "      <td>admin.</td>\n",
       "    </tr>\n",
       "    <tr>\n",
       "      <th>marital</th>\n",
       "      <td>married</td>\n",
       "      <td>single</td>\n",
       "      <td>married</td>\n",
       "      <td>married</td>\n",
       "      <td>married</td>\n",
       "    </tr>\n",
       "    <tr>\n",
       "      <th>education</th>\n",
       "      <td>basic.9y</td>\n",
       "      <td>high.school</td>\n",
       "      <td>high.school</td>\n",
       "      <td>basic.9y</td>\n",
       "      <td>university.degree</td>\n",
       "    </tr>\n",
       "    <tr>\n",
       "      <th>default</th>\n",
       "      <td>no</td>\n",
       "      <td>no</td>\n",
       "      <td>no</td>\n",
       "      <td>no</td>\n",
       "      <td>no</td>\n",
       "    </tr>\n",
       "    <tr>\n",
       "      <th>housing</th>\n",
       "      <td>yes</td>\n",
       "      <td>no</td>\n",
       "      <td>yes</td>\n",
       "      <td>unknown</td>\n",
       "      <td>yes</td>\n",
       "    </tr>\n",
       "    <tr>\n",
       "      <th>loan</th>\n",
       "      <td>no</td>\n",
       "      <td>no</td>\n",
       "      <td>no</td>\n",
       "      <td>unknown</td>\n",
       "      <td>no</td>\n",
       "    </tr>\n",
       "    <tr>\n",
       "      <th>contact</th>\n",
       "      <td>cellular</td>\n",
       "      <td>telephone</td>\n",
       "      <td>telephone</td>\n",
       "      <td>telephone</td>\n",
       "      <td>cellular</td>\n",
       "    </tr>\n",
       "    <tr>\n",
       "      <th>month</th>\n",
       "      <td>may</td>\n",
       "      <td>may</td>\n",
       "      <td>jun</td>\n",
       "      <td>jun</td>\n",
       "      <td>nov</td>\n",
       "    </tr>\n",
       "    <tr>\n",
       "      <th>day_of_week</th>\n",
       "      <td>fri</td>\n",
       "      <td>fri</td>\n",
       "      <td>wed</td>\n",
       "      <td>fri</td>\n",
       "      <td>mon</td>\n",
       "    </tr>\n",
       "    <tr>\n",
       "      <th>campaign</th>\n",
       "      <td>2</td>\n",
       "      <td>4</td>\n",
       "      <td>1</td>\n",
       "      <td>3</td>\n",
       "      <td>1</td>\n",
       "    </tr>\n",
       "    <tr>\n",
       "      <th>pdays</th>\n",
       "      <td>999</td>\n",
       "      <td>999</td>\n",
       "      <td>999</td>\n",
       "      <td>999</td>\n",
       "      <td>999</td>\n",
       "    </tr>\n",
       "    <tr>\n",
       "      <th>previous</th>\n",
       "      <td>0</td>\n",
       "      <td>0</td>\n",
       "      <td>0</td>\n",
       "      <td>0</td>\n",
       "      <td>0</td>\n",
       "    </tr>\n",
       "    <tr>\n",
       "      <th>poutcome</th>\n",
       "      <td>nonexistent</td>\n",
       "      <td>nonexistent</td>\n",
       "      <td>nonexistent</td>\n",
       "      <td>nonexistent</td>\n",
       "      <td>nonexistent</td>\n",
       "    </tr>\n",
       "    <tr>\n",
       "      <th>emp.var.rate</th>\n",
       "      <td>-1.8</td>\n",
       "      <td>1.1</td>\n",
       "      <td>1.4</td>\n",
       "      <td>1.4</td>\n",
       "      <td>-0.1</td>\n",
       "    </tr>\n",
       "    <tr>\n",
       "      <th>cons.price.idx</th>\n",
       "      <td>92.893</td>\n",
       "      <td>93.994</td>\n",
       "      <td>94.465</td>\n",
       "      <td>94.465</td>\n",
       "      <td>93.2</td>\n",
       "    </tr>\n",
       "    <tr>\n",
       "      <th>cons.conf.idx</th>\n",
       "      <td>-46.2</td>\n",
       "      <td>-36.4</td>\n",
       "      <td>-41.8</td>\n",
       "      <td>-41.8</td>\n",
       "      <td>-42.0</td>\n",
       "    </tr>\n",
       "    <tr>\n",
       "      <th>euribor3m</th>\n",
       "      <td>1.313</td>\n",
       "      <td>4.855</td>\n",
       "      <td>4.962</td>\n",
       "      <td>4.959</td>\n",
       "      <td>4.191</td>\n",
       "    </tr>\n",
       "    <tr>\n",
       "      <th>nr.employed</th>\n",
       "      <td>5099.1</td>\n",
       "      <td>5191.0</td>\n",
       "      <td>5228.1</td>\n",
       "      <td>5228.1</td>\n",
       "      <td>5195.8</td>\n",
       "    </tr>\n",
       "    <tr>\n",
       "      <th>y</th>\n",
       "      <td>no</td>\n",
       "      <td>no</td>\n",
       "      <td>no</td>\n",
       "      <td>no</td>\n",
       "      <td>no</td>\n",
       "    </tr>\n",
       "  </tbody>\n",
       "</table>\n",
       "</div>"
      ],
      "text/plain": [
       "                          0            1            2            3  \\\n",
       "age                      30           39           25           38   \n",
       "job             blue-collar     services     services     services   \n",
       "marital             married       single      married      married   \n",
       "education          basic.9y  high.school  high.school     basic.9y   \n",
       "default                  no           no           no           no   \n",
       "housing                 yes           no          yes      unknown   \n",
       "loan                     no           no           no      unknown   \n",
       "contact            cellular    telephone    telephone    telephone   \n",
       "month                   may          may          jun          jun   \n",
       "day_of_week             fri          fri          wed          fri   \n",
       "campaign                  2            4            1            3   \n",
       "pdays                   999          999          999          999   \n",
       "previous                  0            0            0            0   \n",
       "poutcome        nonexistent  nonexistent  nonexistent  nonexistent   \n",
       "emp.var.rate           -1.8          1.1          1.4          1.4   \n",
       "cons.price.idx       92.893       93.994       94.465       94.465   \n",
       "cons.conf.idx         -46.2        -36.4        -41.8        -41.8   \n",
       "euribor3m             1.313        4.855        4.962        4.959   \n",
       "nr.employed          5099.1       5191.0       5228.1       5228.1   \n",
       "y                        no           no           no           no   \n",
       "\n",
       "                                4  \n",
       "age                            47  \n",
       "job                        admin.  \n",
       "marital                   married  \n",
       "education       university.degree  \n",
       "default                        no  \n",
       "housing                       yes  \n",
       "loan                           no  \n",
       "contact                  cellular  \n",
       "month                         nov  \n",
       "day_of_week                   mon  \n",
       "campaign                        1  \n",
       "pdays                         999  \n",
       "previous                        0  \n",
       "poutcome              nonexistent  \n",
       "emp.var.rate                 -0.1  \n",
       "cons.price.idx               93.2  \n",
       "cons.conf.idx               -42.0  \n",
       "euribor3m                   4.191  \n",
       "nr.employed                5195.8  \n",
       "y                              no  "
      ]
     },
     "execution_count": 4,
     "metadata": {},
     "output_type": "execute_result"
    }
   ],
   "source": [
    "df.head().T"
   ]
  },
  {
   "cell_type": "code",
   "execution_count": 5,
   "id": "d555f082",
   "metadata": {},
   "outputs": [
    {
     "data": {
      "text/plain": [
       "Index(['age', 'job', 'marital', 'education', 'default', 'housing', 'loan',\n",
       "       'contact', 'month', 'day_of_week', 'campaign', 'pdays', 'previous',\n",
       "       'poutcome', 'emp.var.rate', 'cons.price.idx', 'cons.conf.idx',\n",
       "       'euribor3m', 'nr.employed', 'y'],\n",
       "      dtype='object')"
      ]
     },
     "execution_count": 5,
     "metadata": {},
     "output_type": "execute_result"
    }
   ],
   "source": [
    "df.columns"
   ]
  },
  {
   "cell_type": "code",
   "execution_count": 6,
   "id": "9af9c405",
   "metadata": {},
   "outputs": [
    {
     "data": {
      "text/plain": [
       "(4119, 20)"
      ]
     },
     "execution_count": 6,
     "metadata": {},
     "output_type": "execute_result"
    }
   ],
   "source": [
    "df.shape"
   ]
  },
  {
   "cell_type": "code",
   "execution_count": 8,
   "id": "050883ec",
   "metadata": {
    "scrolled": true
   },
   "outputs": [
    {
     "name": "stdout",
     "output_type": "stream",
     "text": [
      "age\n",
      "[30 39 25 38 47 32 41 31 35 36 29 27 44 46 45 50 55 40 28 34 33 51 48 20\n",
      " 76 56 24 58 60 37 52 42 49 54 59 57 43 53 75 82 71 21 22 23 26 81 61 67\n",
      " 73 18 64 74 77 86 85 63 88 78 72 68 80 66 19 62 65 69 70]\n",
      "------------------------------------------------------------\n",
      "job\n",
      "['blue-collar' 'services' 'admin.' 'entrepreneur' 'self-employed'\n",
      " 'technician' 'management' 'student' 'retired' 'housemaid' 'unemployed'\n",
      " 'unknown']\n",
      "------------------------------------------------------------\n",
      "marital\n",
      "['married' 'single' 'divorced' 'unknown']\n",
      "------------------------------------------------------------\n",
      "education\n",
      "['basic.9y' 'high.school' 'university.degree' 'professional.course'\n",
      " 'basic.6y' 'basic.4y' 'unknown' 'illiterate']\n",
      "------------------------------------------------------------\n",
      "default\n",
      "['no' 'unknown' 'yes']\n",
      "------------------------------------------------------------\n",
      "housing\n",
      "['yes' 'no' 'unknown']\n",
      "------------------------------------------------------------\n",
      "loan\n",
      "['no' 'unknown' 'yes']\n",
      "------------------------------------------------------------\n",
      "contact\n",
      "['cellular' 'telephone']\n",
      "------------------------------------------------------------\n",
      "month\n",
      "['may' 'jun' 'nov' 'sep' 'jul' 'aug' 'mar' 'oct' 'apr' 'dec']\n",
      "------------------------------------------------------------\n",
      "day_of_week\n",
      "['fri' 'wed' 'mon' 'thu' 'tue']\n",
      "------------------------------------------------------------\n",
      "campaign\n",
      "[ 2  4  1  3  6  7 27  5 12 14 10  8 11 13  9 15 16 18 17 22 19 23 24 35\n",
      " 29]\n",
      "------------------------------------------------------------\n",
      "pdays\n",
      "[999  12   3   6   5   2  10  11   7   1  18   4  15   0  16   9  19  17\n",
      "  13  21  14]\n",
      "------------------------------------------------------------\n",
      "previous\n",
      "[0 2 1 3 5 4 6]\n",
      "------------------------------------------------------------\n",
      "poutcome\n",
      "['nonexistent' 'failure' 'success']\n",
      "------------------------------------------------------------\n",
      "emp.var.rate\n",
      "[-1.8  1.1  1.4 -0.1 -1.1 -2.9 -1.7 -3.4 -3.  -0.2]\n",
      "------------------------------------------------------------\n",
      "cons.price.idx\n",
      "[92.893 93.994 94.465 93.2   94.199 93.918 93.444 93.369 92.843 92.963\n",
      " 94.601 94.027 92.379 92.431 93.749 93.075 94.055 92.469 94.767 92.201\n",
      " 92.649 94.215 93.876 93.798 92.713 92.756]\n",
      "------------------------------------------------------------\n",
      "cons.conf.idx\n",
      "[-46.2 -36.4 -41.8 -42.  -37.5 -42.7 -36.1 -34.8 -50.  -40.8 -49.5 -38.3\n",
      " -29.8 -26.9 -34.6 -47.1 -39.8 -33.6 -50.8 -31.4 -30.1 -40.3 -40.  -40.4\n",
      " -33.  -45.9]\n",
      "------------------------------------------------------------\n",
      "euribor3m\n",
      "[1.313 4.855 4.962 4.959 4.191 0.884 0.879 4.153 4.958 4.968 4.859 4.963\n",
      " 4.957 4.965 4.961 0.639 4.967 4.864 4.856 1.299 4.86  1.687 4.865 1.268\n",
      " 4.12  1.334 0.977 1.344 0.899 1.327 4.592 4.97  1.26  4.966 0.77  4.866\n",
      " 4.964 4.857 0.886 0.739 0.654 1.405 1.281 4.96  0.754 1.291 1.365 4.076\n",
      " 1.266 1.41  1.25  4.858 0.702 1.029 1.085 1.392 1.262 1.05  0.851 0.716\n",
      " 0.877 0.835 1.048 0.904 1.028 0.637 1.244 1.354 4.021 1.453 0.715 1.778\n",
      " 0.773 1.035 0.9   0.898 0.742 0.861 1.264 0.704 1.27  0.695 1.039 1.531\n",
      " 0.883 0.748 0.809 4.794 1.479 0.697 0.959 1.032 0.896 0.827 1.483 0.905\n",
      " 1.466 0.714 0.644 0.849 0.881 0.834 0.645 0.659 0.885 1.041 0.942 0.737\n",
      " 4.947 0.722 1.049 1.415 0.797 0.699 0.81  0.71  1.423 0.707 0.646 1.043\n",
      " 4.955 0.668 0.825 1.435 0.72  0.767 0.982 1.602 1.259 1.811 0.859 1.224\n",
      " 0.876 0.878 1.099 0.788 0.717 0.838 0.64  0.762 1.663 0.73  0.728 1.372\n",
      " 0.782 4.245 1.51  3.329 0.749 4.343 0.893 0.731 0.635 0.7   0.889 0.649\n",
      " 0.873 1.445 1.629 0.944 3.853 0.87  0.79  5.045 0.914 0.719 0.735 1.498\n",
      " 0.677 0.819 0.652 0.692 0.829 1.726 1.406 0.761 0.846 1.252 4.956 0.953\n",
      " 0.803 0.937 0.706 0.869 1.703 0.729 0.709 1.046 0.752 0.921 4.921 0.987\n",
      " 1.03  1.031 0.741 0.843 1.044 0.643 0.755 0.724 0.882 1.757 1.215 0.74\n",
      " 0.683 1.52  4.663 1.059 0.636 0.771 0.655 1.4   0.65  1.384 0.778 0.682\n",
      " 1.614 1.04  1.538 1.072 1.    1.799 1.64  1.65  0.642 0.718 0.768 0.723\n",
      " 0.996 0.721 0.672 0.854 1.016 0.965]\n",
      "------------------------------------------------------------\n",
      "nr.employed\n",
      "[5099.1 5191.  5228.1 5195.8 4963.6 5008.7 5076.2 4991.6 5017.5 5023.5\n",
      " 5176.3]\n",
      "------------------------------------------------------------\n",
      "y\n",
      "['no' 'yes']\n",
      "------------------------------------------------------------\n"
     ]
    }
   ],
   "source": [
    "for i in df.columns:\n",
    "  print(i)\n",
    "  print(df[i].unique())\n",
    "  print('---'*20)"
   ]
  },
  {
   "cell_type": "code",
   "execution_count": 9,
   "id": "56d8f6fe",
   "metadata": {},
   "outputs": [
    {
     "data": {
      "text/plain": [
       "['age',\n",
       " 'campaign',\n",
       " 'pdays',\n",
       " 'previous',\n",
       " 'emp.var.rate',\n",
       " 'cons.price.idx',\n",
       " 'cons.conf.idx',\n",
       " 'euribor3m',\n",
       " 'nr.employed']"
      ]
     },
     "execution_count": 9,
     "metadata": {},
     "output_type": "execute_result"
    }
   ],
   "source": [
    "numerical_cols = list(df.select_dtypes(exclude=['object']))\n",
    "numerical_cols"
   ]
  },
  {
   "cell_type": "code",
   "execution_count": 10,
   "id": "27aafd70",
   "metadata": {},
   "outputs": [
    {
     "data": {
      "text/plain": [
       "['job',\n",
       " 'marital',\n",
       " 'education',\n",
       " 'default',\n",
       " 'housing',\n",
       " 'loan',\n",
       " 'contact',\n",
       " 'month',\n",
       " 'day_of_week',\n",
       " 'poutcome',\n",
       " 'y']"
      ]
     },
     "execution_count": 10,
     "metadata": {},
     "output_type": "execute_result"
    }
   ],
   "source": [
    "### categorical\n",
    "category_cols = list(df.select_dtypes(include=['object']))\n",
    "category_cols"
   ]
  },
  {
   "cell_type": "code",
   "execution_count": 11,
   "id": "b37957cb",
   "metadata": {},
   "outputs": [],
   "source": [
    "df.default.replace('unknown','no',inplace=True)"
   ]
  },
  {
   "cell_type": "code",
   "execution_count": 12,
   "id": "798498d7",
   "metadata": {},
   "outputs": [],
   "source": [
    "df.housing.replace('unknown',df.housing.mode()[0],inplace=True)"
   ]
  },
  {
   "cell_type": "code",
   "execution_count": 13,
   "id": "507f6a6a",
   "metadata": {},
   "outputs": [],
   "source": [
    "df['loan'] = df.default.replace('unknown',df.loan.mode()[0])"
   ]
  },
  {
   "cell_type": "code",
   "execution_count": 14,
   "id": "09c42b00",
   "metadata": {},
   "outputs": [],
   "source": [
    "df.loc[(df['age']>60) & (df['job']=='unknown'), 'job'] = 'retired'\n",
    "df.loc[(df['education']=='unknown') & (df['job']=='management'), 'education'] = 'university.degree'\n",
    "df.loc[(df['education']=='unknown') & (df['job']=='services'), 'education'] = 'high.school'\n",
    "df.loc[(df['education']=='unknown') & (df['job']=='housemaid'), 'education'] = 'basic.4y'\n",
    "df.loc[(df['job'] == 'unknown') & (df['education']=='basic.4y'), 'job'] = 'blue-collar'\n",
    "df.loc[(df['job'] == 'unknown') & (df['education']=='basic.6y'), 'job'] = 'blue-collar'\n",
    "df.loc[(df['job'] == 'unknown') & (df['education']=='basic.9y'), 'job'] = 'blue-collar'\n",
    "df.loc[(df['job']=='unknown') & (df['education']=='professional.course'), 'job'] = 'technician'"
   ]
  },
  {
   "cell_type": "code",
   "execution_count": 15,
   "id": "f928a054",
   "metadata": {},
   "outputs": [],
   "source": [
    "df['pdays'] = np.where(df['pdays'] == 999,df[df['pdays'] < 999]['pdays'].mean(),df['pdays'])"
   ]
  },
  {
   "cell_type": "code",
   "execution_count": 16,
   "id": "0c116a91",
   "metadata": {},
   "outputs": [],
   "source": [
    "df['y'].replace({'no':0,'yes':1},inplace=True)"
   ]
  },
  {
   "cell_type": "code",
   "execution_count": 49,
   "id": "6f0a416b",
   "metadata": {},
   "outputs": [
    {
     "data": {
      "text/plain": [
       "<AxesSubplot:>"
      ]
     },
     "execution_count": 49,
     "metadata": {},
     "output_type": "execute_result"
    },
    {
     "data": {
      "image/png": "[encoded data removed]",
      "text/plain": [
       "<Figure size 720x720 with 2 Axes>"
      ]
     },
     "metadata": {
      "needs_background": "light"
     },
     "output_type": "display_data"
    }
   ],
   "source": [
    "import seaborn as sns\n",
    "fig, ax = plt.subplots(figsize=(10,10))\n",
    "sns.heatmap(df.corr(), annot=True,cmap='plasma',linewidths=0.5,ax=ax)"
   ]
  },
  {
   "cell_type": "code",
   "execution_count": 18,
   "id": "a26bd1f0",
   "metadata": {},
   "outputs": [],
   "source": [
    "df.loc[df[\"age\"] < 30,  'age'] = 20\n",
    "df.loc[(df[\"age\"] >= 30) & (df[\"age\"] <= 39), 'age'] = 30\n",
    "df.loc[(df[\"age\"] >= 40) & (df[\"age\"] <= 49), 'age'] = 40\n",
    "df.loc[(df[\"age\"] >= 50) & (df[\"age\"] <= 59), 'age'] = 50\n",
    "df.loc[df[\"age\"] >= 60, 'age'] = 60"
   ]
  },
  {
   "cell_type": "code",
   "execution_count": 19,
   "id": "6164f6c6",
   "metadata": {},
   "outputs": [],
   "source": [
    "df['pdays'] = np.where(df['pdays'] == 999,df[df['pdays'] < 999]['pdays'].mean(),df['pdays'])"
   ]
  },
  {
   "cell_type": "markdown",
   "id": "19f1d00a",
   "metadata": {},
   "source": [
    "## Function to generate model report and plot auc_roc curve"
   ]
  },
  {
   "cell_type": "code",
   "execution_count": 20,
   "id": "0b77cde8",
   "metadata": {},
   "outputs": [],
   "source": [
    "def generate_auc_roc_curve(clf, X_test):\n",
    "    y_pred_proba = clf.predict_proba(X_test)[:, 1]\n",
    "    fpr, tpr, thresholds = roc_curve(Y_test,  y_pred_proba)\n",
    "    auc = roc_auc_score(Y_test, y_pred_proba)\n",
    "    plt.plot(fpr,tpr,label=\"AUC ROC Curve with Area Under the curve =\"+str(auc))\n",
    "    plt.plot([0, 1], [0, 1], linestyle='--')\n",
    "    plt.legend(loc=4)\n",
    "    plt.show()\n",
    "    pass"
   ]
  },
  {
   "cell_type": "code",
   "execution_count": 21,
   "id": "7861a836",
   "metadata": {},
   "outputs": [],
   "source": [
    "def generate_model_report(y_actual, y_predicted):\n",
    "    print(\"Accuracy = \" , accuracy_score(y_actual, y_predicted))\n",
    "    print(\"Precision = \" ,precision_score(y_actual, y_predicted))\n",
    "    print(\"Recall = \" ,recall_score(y_actual, y_predicted))\n",
    "    print(\"F1 Score = \" ,f1_score(y_actual, y_predicted))\n",
    "    pass"
   ]
  },
  {
   "cell_type": "markdown",
   "id": "ecb238f0",
   "metadata": {},
   "source": [
    "## Model Train"
   ]
  },
  {
   "cell_type": "code",
   "execution_count": 22,
   "id": "3178cde0",
   "metadata": {},
   "outputs": [],
   "source": [
    "from sklearn.metrics import accuracy_score, precision_score, recall_score, f1_score, confusion_matrix\n",
    "import sklearn.metrics as metrics\n",
    "from sklearn.model_selection import GridSearchCV"
   ]
  },
  {
   "cell_type": "code",
   "execution_count": 23,
   "id": "5628ac0d",
   "metadata": {},
   "outputs": [],
   "source": [
    "from sklearn.preprocessing import LabelEncoder\n",
    "labelenc = LabelEncoder()\n",
    "df[category_cols] = df[category_cols].apply(LabelEncoder().fit_transform)"
   ]
  },
  {
   "cell_type": "code",
   "execution_count": 24,
   "id": "41b45cca",
   "metadata": {},
   "outputs": [],
   "source": [
    "X = df.drop(['y'],1)\n",
    "y = df['y']"
   ]
  },
  {
   "cell_type": "code",
   "execution_count": 25,
   "id": "7a0d4d7a",
   "metadata": {},
   "outputs": [],
   "source": [
    "from sklearn.model_selection import train_test_split\n",
    "X_train_im, X_test_im, y_train_im, y_test_im= train_test_split(X,y, test_size=0.3, random_state=0)b"
   ]
  },
  {
   "cell_type": "code",
   "execution_count": 51,
   "id": "f530cb82",
   "metadata": {},
   "outputs": [
    {
     "name": "stdout",
     "output_type": "stream",
     "text": [
      "X train Shape:  (2883, 19)\n",
      "Y train Shape:  (2883,)\n",
      "X test Shape:  (1236, 19)\n",
      "Y test Shape:  (1236,)\n"
     ]
    }
   ],
   "source": [
    "print('X train Shape: ', X_train_im.shape)\n",
    "print('Y train Shape: ', y_train_im.shape)\n",
    "print('X test Shape: ', X_test_im.shape)\n",
    "print('Y test Shape: ', y_test_im.shape)"
   ]
  },
  {
   "cell_type": "markdown",
   "id": "4ee4730b",
   "metadata": {},
   "source": [
    "## Logistics Regression"
   ]
  },
  {
   "cell_type": "code",
   "execution_count": 26,
   "id": "a75c3824",
   "metadata": {
    "collapsed": true
   },
   "outputs": [
    {
     "name": "stdout",
     "output_type": "stream",
     "text": [
      "Training score: 0.90 \n",
      "Testing score: 0.90 \n"
     ]
    },
    {
     "name": "stderr",
     "output_type": "stream",
     "text": [
      "C:\\Users\\kelso\\anaconda3\\lib\\site-packages\\sklearn\\linear_model\\_logistic.py:763: ConvergenceWarning: lbfgs failed to converge (status=1):\n",
      "STOP: TOTAL NO. of ITERATIONS REACHED LIMIT.\n",
      "\n",
      "Increase the number of iterations (max_iter) or scale the data as shown in:\n",
      "    https://scikit-learn.org/stable/modules/preprocessing.html\n",
      "Please also refer to the documentation for alternative solver options:\n",
      "    https://scikit-learn.org/stable/modules/linear_model.html#logistic-regression\n",
      "  n_iter_i = _check_optimize_result(\n"
     ]
    }
   ],
   "source": [
    "from sklearn.linear_model import LogisticRegression\n",
    "\n",
    "lg_clf=LogisticRegression(random_state=9)\n",
    "lg_clf.fit(X_train_im, y_train_im)\n",
    "\n",
    "score_lg_train=lg_clf.score(X_train_im, y_train_im)\n",
    "print(\"Training score: %.2f \" % score_lg_train)\n",
    "\n",
    "score_lg_test=lg_clf.score(X_test_im, y_test_im)\n",
    "print(\"Testing score: %.2f \" % score_lg_test)\n",
    "\n",
    "y_pred_lg = lg_clf.predict(X_test_im)\n"
   ]
  },
  {
   "cell_type": "code",
   "execution_count": 52,
   "id": "d69ea2db",
   "metadata": {},
   "outputs": [
    {
     "data": {
      "image/png": "[encoded data removed]",
      "text/plain": [
       "<Figure size 360x360 with 2 Axes>"
      ]
     },
     "metadata": {
      "needs_background": "light"
     },
     "output_type": "display_data"
    }
   ],
   "source": [
    "lg_clf = confusion_matrix(y_test_im, y_pred_lg)\n",
    "f, ax = plt.subplots(figsize=(5,5))\n",
    "sns.heatmap(lg_clf, annot=True, linewidth=0.7, linecolor='cyan', fmt='g', ax=ax, cmap=\"plasma\")\n",
    "plt.title('Logistics Regression Classifier')\n",
    "plt.xlabel('Y predict')\n",
    "plt.ylabel('Y test')\n",
    "plt.show()"
   ]
  },
  {
   "cell_type": "code",
   "execution_count": 99,
   "id": "65870237",
   "metadata": {
    "scrolled": true
   },
   "outputs": [
    {
     "name": "stdout",
     "output_type": "stream",
     "text": [
      "Accuracy = 0.8964401294498382\n"
     ]
    }
   ],
   "source": [
    "lg_clf = accuracy_score(y_test_im, y_pred_lg)\n",
    "print(\"Accuracy = {}\".format(lg_clf))"
   ]
  },
  {
   "cell_type": "code",
   "execution_count": 98,
   "id": "202bb672",
   "metadata": {},
   "outputs": [
    {
     "name": "stdout",
     "output_type": "stream",
     "text": [
      "Precision = 0.43478260869565216\n"
     ]
    }
   ],
   "source": [
    "lg_clf2 = precision_score(y_test_im, y_pred_lg)\n",
    "print(\"Precision = {}\".format(lg_clf2))"
   ]
  },
  {
   "cell_type": "code",
   "execution_count": 97,
   "id": "06b6f3d6",
   "metadata": {},
   "outputs": [
    {
     "name": "stdout",
     "output_type": "stream",
     "text": [
      "Recall = 0.16393442622950818\n"
     ]
    }
   ],
   "source": [
    "lg_clf3 = recall_score(y_test_im, y_pred_lg)\n",
    "print(\"Recall = {}\".format(lg_clf3))"
   ]
  },
  {
   "cell_type": "code",
   "execution_count": 96,
   "id": "4a10d678",
   "metadata": {},
   "outputs": [
    {
     "name": "stdout",
     "output_type": "stream",
     "text": [
      "F1 = 0.23809523809523805\n"
     ]
    }
   ],
   "source": [
    "lg_clf4 = f1_score(y_test_im, y_pred_lg)\n",
    "print(\"F1 = {}\".format(lg_clf4))"
   ]
  },
  {
   "cell_type": "markdown",
   "id": "211a36cb",
   "metadata": {},
   "source": [
    "## Random Forest"
   ]
  },
  {
   "cell_type": "code",
   "execution_count": 31,
   "id": "375e89a4",
   "metadata": {},
   "outputs": [
    {
     "name": "stdout",
     "output_type": "stream",
     "text": [
      "Training score: 0.88588 \n",
      "Testing score: 0.90129 \n"
     ]
    }
   ],
   "source": [
    "from sklearn.ensemble import RandomForestClassifier\n",
    "\n",
    "rf_clf=RandomForestClassifier(n_estimators=100,n_jobs=100,random_state=9, min_samples_leaf=100)\n",
    "rf_clf.fit(X_train_im, y_train_im)\n",
    "\n",
    "score_rf=rf_clf.score(X_train_im, y_train_im)\n",
    "print(\"Training score: %.5f \" % score_rf)\n",
    "\n",
    "score_rf=rf_clf.score(X_test_im, y_test_im)\n",
    "print(\"Testing score: %.5f \" % score_rf)\n",
    "\n",
    "y_pred_rf = rf_clf.predict(X_test_im)"
   ]
  },
  {
   "cell_type": "code",
   "execution_count": 48,
   "id": "685fd6ac",
   "metadata": {
    "scrolled": true
   },
   "outputs": [
    {
     "data": {
      "image/png": "[encoded data removed]",
      "text/plain": [
       "<Figure size 360x360 with 2 Axes>"
      ]
     },
     "metadata": {
      "needs_background": "light"
     },
     "output_type": "display_data"
    }
   ],
   "source": [
    "rf_clf = confusion_matrix(y_test_im, y_pred_rf)\n",
    "f, ax = plt.subplots(figsize=(5,5))\n",
    "sns.heatmap(rf_clf, annot=True, linewidth=0.7, linecolor='cyan', fmt='g', ax=ax, cmap=\"plasma\")\n",
    "plt.title('Random Forest Classifier')\n",
    "plt.xlabel('Y predict')\n",
    "plt.ylabel('Y test')\n",
    "plt.show()"
   ]
  },
  {
   "cell_type": "code",
   "execution_count": 95,
   "id": "b957f305",
   "metadata": {
    "scrolled": false
   },
   "outputs": [
    {
     "name": "stdout",
     "output_type": "stream",
     "text": [
      "Accuracy = 0.901294498381877\n"
     ]
    }
   ],
   "source": [
    "rf_clf = accuracy_score(y_test_im, y_pred_rf)\n",
    "print(\"Accuracy = {}\".format(rf_clf))"
   ]
  },
  {
   "cell_type": "code",
   "execution_count": 94,
   "id": "83bfbdf4",
   "metadata": {
    "collapsed": true
   },
   "outputs": [
    {
     "name": "stdout",
     "output_type": "stream",
     "text": [
      "Precision = 0.0\n"
     ]
    },
    {
     "name": "stderr",
     "output_type": "stream",
     "text": [
      "C:\\Users\\kelso\\anaconda3\\lib\\site-packages\\sklearn\\metrics\\_classification.py:1245: UndefinedMetricWarning: Precision is ill-defined and being set to 0.0 due to no predicted samples. Use `zero_division` parameter to control this behavior.\n",
      "  _warn_prf(average, modifier, msg_start, len(result))\n"
     ]
    }
   ],
   "source": [
    "rf_clf2 = precision_score(y_test_im, y_pred_rf)\n",
    "print(\"Precision = {}\".format(rf_clf2))"
   ]
  },
  {
   "cell_type": "code",
   "execution_count": 93,
   "id": "ec95aa90",
   "metadata": {},
   "outputs": [
    {
     "name": "stdout",
     "output_type": "stream",
     "text": [
      "Recall = 0.0\n"
     ]
    }
   ],
   "source": [
    "rf_clf3 = recall_score(y_test_im, y_pred_rf)\n",
    "print(\"Recall = {}\".format(rf_clf3))"
   ]
  },
  {
   "cell_type": "code",
   "execution_count": 92,
   "id": "997fdd52",
   "metadata": {},
   "outputs": [
    {
     "name": "stdout",
     "output_type": "stream",
     "text": [
      "F1 = 0.0\n"
     ]
    }
   ],
   "source": [
    "rf_clf4 = f1_score(y_test_im, y_pred_rf)\n",
    "print(\"F1 = {}\".format(rf_clf4))"
   ]
  },
  {
   "cell_type": "markdown",
   "id": "6985843b",
   "metadata": {},
   "source": [
    "## Decision Tree"
   ]
  },
  {
   "cell_type": "code",
   "execution_count": 36,
   "id": "744b93f6",
   "metadata": {},
   "outputs": [
    {
     "name": "stdout",
     "output_type": "stream",
     "text": [
      "Training score: 0.8949 \n",
      "Training score: 0.8949 \n"
     ]
    }
   ],
   "source": [
    "from sklearn.tree import DecisionTreeClassifier\n",
    "dtcla = DecisionTreeClassifier(random_state=0, min_samples_leaf=100)\n",
    "\n",
    "dtcla.fit(X_train_im, y_train_im)\n",
    "score_dt=dtcla.score(X_train_im, y_train_im)\n",
    "print(\"Training score: %.4f \" % score_dt)\n",
    "\n",
    "score_dt=dtcla.score(X_train_im, y_train_im)\n",
    "print(\"Training score: %.4f \" % score_dt)\n",
    "\n",
    "y_pred_dt = dtcla.predict(X_test_im)"
   ]
  },
  {
   "cell_type": "code",
   "execution_count": 37,
   "id": "b55184b9",
   "metadata": {},
   "outputs": [
    {
     "data": {
      "image/png": "[encoded data removed]",
      "text/plain": [
       "<Figure size 360x360 with 2 Axes>"
      ]
     },
     "metadata": {
      "needs_background": "light"
     },
     "output_type": "display_data"
    }
   ],
   "source": [
    "dtcla = confusion_matrix(y_test_im, y_pred_dt)\n",
    "f, ax = plt.subplots(figsize=(5,5))\n",
    "sns.heatmap(dtcla, annot=True, linewidth=0.7, linecolor='cyan', fmt='g', ax=ax, cmap=\"plasma\")\n",
    "plt.title('Decision Tree Classifier')\n",
    "plt.xlabel('Y predict')\n",
    "plt.ylabel('Y test')\n",
    "plt.show()"
   ]
  },
  {
   "cell_type": "code",
   "execution_count": 91,
   "id": "ddc3de9c",
   "metadata": {},
   "outputs": [
    {
     "name": "stdout",
     "output_type": "stream",
     "text": [
      "Accuracy = 0.8826860841423948\n"
     ]
    }
   ],
   "source": [
    "dtcla = accuracy_score(y_test_im, y_pred_dt)\n",
    "print(\"Accuracy = {}\".format(dtcla))"
   ]
  },
  {
   "cell_type": "code",
   "execution_count": 90,
   "id": "4265f555",
   "metadata": {},
   "outputs": [
    {
     "name": "stdout",
     "output_type": "stream",
     "text": [
      "Precision = 0.3380281690140845\n"
     ]
    }
   ],
   "source": [
    "dtcla2 = precision_score(y_test_im, y_pred_dt)\n",
    "print(\"Precision = {}\".format(dtcla2))"
   ]
  },
  {
   "cell_type": "code",
   "execution_count": 89,
   "id": "617f7d92",
   "metadata": {},
   "outputs": [
    {
     "name": "stdout",
     "output_type": "stream",
     "text": [
      "Recall = 0.19672131147540983\n"
     ]
    }
   ],
   "source": [
    "dtcla3 = recall_score(y_test_im, y_pred_dt)\n",
    "print(\"Recall = {}\".format(dtcla3))"
   ]
  },
  {
   "cell_type": "code",
   "execution_count": 88,
   "id": "81f21b90",
   "metadata": {},
   "outputs": [
    {
     "name": "stdout",
     "output_type": "stream",
     "text": [
      "F1 = 0.24870466321243523\n"
     ]
    }
   ],
   "source": [
    "dtcla4 = f1_score(y_test_im, y_pred_dt)\n",
    "print(\"F1 = {}\".format(dtcla4))"
   ]
  },
  {
   "cell_type": "markdown",
   "id": "d452679e",
   "metadata": {},
   "source": [
    "## K-Nearest Neighbour"
   ]
  },
  {
   "cell_type": "code",
   "execution_count": 42,
   "id": "71989eac",
   "metadata": {},
   "outputs": [],
   "source": [
    "from sklearn.neighbors import KNeighborsClassifier\n",
    "\n",
    "knc = KNeighborsClassifier(n_neighbors=15,n_jobs=-1)\n",
    "knc.fit(X_train_im, y_train_im)\n",
    "y_pred_kn = knc.predict(X_test_im)"
   ]
  },
  {
   "cell_type": "code",
   "execution_count": 43,
   "id": "b42f1c69",
   "metadata": {},
   "outputs": [
    {
     "data": {
      "image/png": "[encoded data removed]",
      "text/plain": [
       "<Figure size 360x360 with 2 Axes>"
      ]
     },
     "metadata": {
      "needs_background": "light"
     },
     "output_type": "display_data"
    }
   ],
   "source": [
    "knc = confusion_matrix(y_test_im, y_pred_kn)\n",
    "f, ax = plt.subplots(figsize=(5,5))\n",
    "sns.heatmap(knc, annot=True, linewidth=0.7, linecolor='red', fmt='g', ax=ax, cmap=\"YlGnBu\")\n",
    "plt.title('KNN Classifier')\n",
    "plt.xlabel('Y predict')\n",
    "plt.ylabel('Y test')\n",
    "plt.show()"
   ]
  },
  {
   "cell_type": "code",
   "execution_count": 103,
   "id": "2e6f6686",
   "metadata": {},
   "outputs": [
    {
     "name": "stdout",
     "output_type": "stream",
     "text": [
      "Accuracy = 0.9004854368932039\n"
     ]
    }
   ],
   "source": [
    "knc = accuracy_score(y_test_im, y_pred_kn)\n",
    "print(\"Accuracy = {}\".format(knc))"
   ]
  },
  {
   "cell_type": "code",
   "execution_count": 102,
   "id": "90fefb2c",
   "metadata": {},
   "outputs": [
    {
     "name": "stdout",
     "output_type": "stream",
     "text": [
      "Precision = 0.4888888888888889\n"
     ]
    }
   ],
   "source": [
    "knc2 = precision_score(y_test_im, y_pred_kn)\n",
    "print(\"Precision = {}\".format(knc2))"
   ]
  },
  {
   "cell_type": "code",
   "execution_count": 101,
   "id": "1ce97657",
   "metadata": {},
   "outputs": [
    {
     "name": "stdout",
     "output_type": "stream",
     "text": [
      "Recall = 0.18032786885245902\n"
     ]
    }
   ],
   "source": [
    "knc3 = recall_score(y_test_im, y_pred_kn)\n",
    "print(\"Recall = {}\".format(knc3))"
   ]
  },
  {
   "cell_type": "code",
   "execution_count": 100,
   "id": "e0d5ba6a",
   "metadata": {},
   "outputs": [
    {
     "name": "stdout",
     "output_type": "stream",
     "text": [
      "F1 = 0.2634730538922156\n"
     ]
    }
   ],
   "source": [
    "knc4 = f1_score(y_test_im, y_pred_kn)\n",
    "print(\"F1 = {}\".format(knc4))"
   ]
  },
  {
   "cell_type": "code",
   "execution_count": 53,
   "id": "76f8e2eb",
   "metadata": {
    "scrolled": false
   },
   "outputs": [
    {
     "data": {
      "image/png": "[encoded data removed]",
      "text/plain": [
       "<Figure size 1080x1080 with 8 Axes>"
      ]
     },
     "metadata": {
      "needs_background": "light"
     },
     "output_type": "display_data"
    }
   ],
   "source": [
    "fig = plt.figure(figsize=(15,15))\n",
    "ax1 = fig.add_subplot(3, 3, 1) \n",
    "ax1.set_title('Logistic Regression Classifier') \n",
    "ax2 = fig.add_subplot(3, 3, 2)\n",
    "ax2.set_title('Decision Tree Classifier')\n",
    "ax3 = fig.add_subplot(3, 3, 4)\n",
    "ax3.set_title('Random Forest Classifier')\n",
    "ax4 = fig.add_subplot(3, 3, 5)\n",
    "ax4.set_title('KNN Classifier')\n",
    "sns.heatmap(data=lg_clf, annot=True, linewidth=0.7, linecolor='cyan',cmap=\"plasma\" ,fmt='g', ax=ax1)\n",
    "sns.heatmap(data=dtcla, annot=True, linewidth=0.7, linecolor='cyan',cmap=\"plasma\" ,fmt='g', ax=ax2)  \n",
    "sns.heatmap(data=rf_clf, annot=True, linewidth=0.7, linecolor='cyan',cmap=\"plasma\" ,fmt='g', ax=ax3)\n",
    "sns.heatmap(data=knc, annot=True, linewidth=0.7, linecolor='cyan',cmap=\"plasma\" ,fmt='g', ax=ax4)\n",
    "plt.show()"
   ]
  },
  {
   "cell_type": "code",
   "execution_count": 87,
   "id": "01ebdc56",
   "metadata": {},
   "outputs": [
    {
     "name": "stdout",
     "output_type": "stream",
     "text": [
      "Logistic Regression Score    0.896440\n",
      "Decision Tree Score          0.248705\n",
      "Random Forest Score          0.901294\n",
      "K-Nearest Neighbour Score    0.263473\n",
      "dtype: float64\n"
     ]
    }
   ],
   "source": [
    "Testscores = pd.Series([lg_clf, dtcla, rf_clf, knc],\n",
    "                       index=['Logistic Regression Score','Decision Tree Score',\n",
    "                              'Random Forest Score','K-Nearest Neighbour Score']) \n",
    "print(Testscores)"
   ]
  },
  {
   "cell_type": "code",
   "execution_count": 104,
   "id": "4036b3c9",
   "metadata": {},
   "outputs": [
    {
     "name": "stdout",
     "output_type": "stream",
     "text": [
      "Logistic Regression Precision    0.434783\n",
      "Decision Tree Precision          0.338028\n",
      "Random Forest Precision          0.000000\n",
      "K-Nearest Neighbour Precision    0.488889\n",
      "dtype: float64\n"
     ]
    }
   ],
   "source": [
    "Testscores2 = pd.Series([lg_clf2, dtcla2, rf_clf2, knc2],\n",
    "                       index=['Logistic Regression Precision','Decision Tree Precision',\n",
    "                              'Random Forest Precision','K-Nearest Neighbour Precision']) \n",
    "print(Testscores2)"
   ]
  },
  {
   "cell_type": "code",
   "execution_count": 105,
   "id": "cecd1a66",
   "metadata": {},
   "outputs": [
    {
     "name": "stdout",
     "output_type": "stream",
     "text": [
      "Logistic Regression Recall    0.163934\n",
      "Decision Tree Recall          0.196721\n",
      "Random Forest Recall          0.000000\n",
      "K-Nearest Neighbour Recall    0.180328\n",
      "dtype: float64\n"
     ]
    }
   ],
   "source": [
    "Testscores3 = pd.Series([lg_clf3, dtcla3, rf_clf3, knc3],\n",
    "                       index=['Logistic Regression Recall','Decision Tree Recall',\n",
    "                              'Random Forest Recall','K-Nearest Neighbour Recall']) \n",
    "print(Testscores3)"
   ]
  },
  {
   "cell_type": "code",
   "execution_count": 106,
   "id": "3c225bbd",
   "metadata": {},
   "outputs": [
    {
     "name": "stdout",
     "output_type": "stream",
     "text": [
      "Logistic Regression F1    0.238095\n",
      "Decision Tree F1          0.248705\n",
      "Random Forest F1          0.000000\n",
      "K-Nearest Neighbour F1    0.263473\n",
      "dtype: float64\n"
     ]
    }
   ],
   "source": [
    "Testscores4 = pd.Series([lg_clf4, dtcla4, rf_clf4, knc4],\n",
    "                       index=['Logistic Regression F1','Decision Tree F1',\n",
    "                              'Random Forest F1','K-Nearest Neighbour F1']) \n",
    "print(Testscores4)"
   ]
  },
  {
   "cell_type": "code",
   "execution_count": null,
   "id": "8af242c2",
   "metadata": {},
   "outputs": [],
   "source": []
  }
 ],
 "metadata": {
  "kernelspec": {
   "display_name": "Python 3",
   "language": "python",
   "name": "python3"
  },
  "language_info": {
   "codemirror_mode": {
    "name": "ipython",
    "version": 3
   },
   "file_extension": ".py",
   "mimetype": "text/x-python",
   "name": "python",
   "nbconvert_exporter": "python",
   "pygments_lexer": "ipython3",
   "version": "3.8.8"
  }
 },
 "nbformat": 4,
 "nbformat_minor": 5
}
